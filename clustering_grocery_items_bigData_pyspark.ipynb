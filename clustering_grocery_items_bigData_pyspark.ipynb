{
 "cells": [
  {
   "cell_type": "markdown",
   "metadata": {
    "toc": "true"
   },
   "source": [
    "<h1>Table of Contents<span class=\"tocSkip\"></span></h1>\n",
    "<div class=\"toc\"><ul class=\"toc-item\"><li><span><a href=\"#Problem-Description\" data-toc-modified-id=\"Problem-Description-1\"><span class=\"toc-item-num\">1&nbsp;&nbsp;</span>Problem Description</a></span><ul class=\"toc-item\"><li><ul class=\"toc-item\"><li><span><a href=\"#Goal\" data-toc-modified-id=\"Goal-1.0.1\"><span class=\"toc-item-num\">1.0.1&nbsp;&nbsp;</span>Goal</a></span></li><li><span><a href=\"#Challenge-Description\" data-toc-modified-id=\"Challenge-Description-1.0.2\"><span class=\"toc-item-num\">1.0.2&nbsp;&nbsp;</span>Challenge Description</a></span></li></ul></li></ul></li><li><span><a href=\"#Resources\" data-toc-modified-id=\"Resources-2\"><span class=\"toc-item-num\">2&nbsp;&nbsp;</span>Resources</a></span></li><li><span><a href=\"#Imports\" data-toc-modified-id=\"Imports-3\"><span class=\"toc-item-num\">3&nbsp;&nbsp;</span>Imports</a></span></li><li><span><a href=\"#Load-the-data\" data-toc-modified-id=\"Load-the-data-4\"><span class=\"toc-item-num\">4&nbsp;&nbsp;</span>Load the data</a></span></li><li><span><a href=\"#Qn1:-the-customer-who-bought-the-most-items-overall-in-her-lifetime\" data-toc-modified-id=\"Qn1:-the-customer-who-bought-the-most-items-overall-in-her-lifetime-5\"><span class=\"toc-item-num\">5&nbsp;&nbsp;</span>Qn1: the customer who bought the most items overall in her lifetime</a></span></li><li><span><a href=\"#Qn2:-for-each-item,-the-customer-who-bought-that-product-the-most\" data-toc-modified-id=\"Qn2:-for-each-item,-the-customer-who-bought-that-product-the-most-6\"><span class=\"toc-item-num\">6&nbsp;&nbsp;</span>Qn2: for each item, the customer who bought that product the most</a></span></li><li><span><a href=\"#Qn3:-Modelling-Clustering-of-Similar-Items\" data-toc-modified-id=\"Qn3:-Modelling-Clustering-of-Similar-Items-7\"><span class=\"toc-item-num\">7&nbsp;&nbsp;</span>Qn3: Modelling Clustering of Similar Items</a></span></li></ul></div>"
   ]
  },
  {
   "cell_type": "markdown",
   "metadata": {},
   "source": [
    "<div class=\"alert alert-block alert-success\">\n",
    "<b>Kernel Author:</b>  <br>\n",
    "<a href=\"https://bhishanpdl.github.io/\" , target=\"_blank\">Bhishan Poudel,  Data Scientist, Ph.D Astrophysics</a> .\n",
    "</div>"
   ]
  },
  {
   "cell_type": "markdown",
   "metadata": {},
   "source": [
    "# Problem Description\n",
    "\n",
    "### Goal\n",
    "\n",
    "Online shops often sell tons of different items and this can become very messy very quickly!\n",
    "\n",
    "Data science can be extremely useful to automatically organize the products in categories so that they can be easily found by the customers.\n",
    "\n",
    "The goal of this challenge is to look at user purchase history and create categories of items that are likely to be bought together and, therefore, should belong to the same section.\n",
    "\n",
    "### Challenge Description\n",
    "\n",
    "Company XYZ is an online grocery store. In the current version of the website, they have manually grouped the items into a few categories based on their experience.\n",
    "\n",
    "However, they now have a lot of data about user purchase history. Therefore, they would like to\n",
    "put the data into use!\n",
    "\n",
    "This is what they asked you to do:\n",
    "1. The company founder wants to meet with some of the best customers to go through a focus group with them. You are asked to send the ID of the following customers to the founder:\n",
    "\n",
    "a. The customer who bought the most items overall in her lifetime\n",
    "\n",
    "b. For each item, the customer who bought that product the most\n",
    "\n",
    "2. Cluster items based on user co-purchase history. That is, create clusters of products that have the highest probability of being bought together. The goal of this is to replace the old/manually created categories with these new ones. Each item can belong to just one cluster."
   ]
  },
  {
   "cell_type": "markdown",
   "metadata": {},
   "source": [
    "# Resources\n",
    "\n",
    "- https://spark.apache.org/docs/latest/mllib-clustering.html\n",
    "- https://spark.apache.org/docs/latest/api/python/pyspark.mllib.html#pyspark.mllib.clustering.KMeansModel\n",
    "- https://spark.apache.org/docs/latest/api/python/pyspark.ml.html#pyspark.ml.evaluation.ClusteringEvaluator\n",
    "- https://spark.apache.org/docs/latest/api/python/_modules/pyspark/ml/evaluation.html\n"
   ]
  },
  {
   "cell_type": "markdown",
   "metadata": {},
   "source": [
    "# Imports"
   ]
  },
  {
   "cell_type": "code",
   "execution_count": 1,
   "metadata": {
    "ExecuteTime": {
     "end_time": "2021-02-24T20:57:58.004880Z",
     "start_time": "2021-02-24T20:57:56.424673Z"
    }
   },
   "outputs": [
    {
     "name": "stdout",
     "output_type": "stream",
     "text": [
      "[('numpy', '1.17.5'), ('pandas', '1.0.5'), ('seaborn', '0.10.1'), ('matplotlib', '3.2.2')]\n"
     ]
    }
   ],
   "source": [
    "import numpy as np\n",
    "import pandas as pd\n",
    "import seaborn as sns\n",
    "sns.set(color_codes=True)\n",
    "\n",
    "import matplotlib\n",
    "import matplotlib.pyplot as plt\n",
    "%matplotlib inline\n",
    "\n",
    "import os\n",
    "import time\n",
    "\n",
    "# random state\n",
    "random_state=100\n",
    "np.random.seed(random_state) # we need this in each cell\n",
    "\n",
    "# Jupyter notebook settings for pandas\n",
    "pd.set_option('display.max_columns', 200)\n",
    "pd.set_option('display.max_rows', 100) # None for all the rows\n",
    "pd.set_option('display.max_colwidth', 50)\n",
    "\n",
    "print([(x.__name__,x.__version__) for x in [np, pd,sns,matplotlib]])"
   ]
  },
  {
   "cell_type": "code",
   "execution_count": 2,
   "metadata": {
    "ExecuteTime": {
     "end_time": "2021-02-24T20:57:58.015027Z",
     "start_time": "2021-02-24T20:57:58.008141Z"
    }
   },
   "outputs": [
    {
     "data": {
      "application/javascript": [
       "IPython.OutputArea.auto_scroll_threshold = 9999;\n"
      ],
      "text/plain": [
       "<IPython.core.display.Javascript object>"
      ]
     },
     "metadata": {},
     "output_type": "display_data"
    }
   ],
   "source": [
    "%%javascript\n",
    "IPython.OutputArea.auto_scroll_threshold = 9999;"
   ]
  },
  {
   "cell_type": "code",
   "execution_count": 3,
   "metadata": {
    "ExecuteTime": {
     "end_time": "2021-02-24T20:58:01.729474Z",
     "start_time": "2021-02-24T20:57:58.018716Z"
    }
   },
   "outputs": [
    {
     "name": "stdout",
     "output_type": "stream",
     "text": [
      "[('numpy', '1.17.5'), ('pandas', '1.0.5'), ('pyspark', '3.0.0')]\n"
     ]
    }
   ],
   "source": [
    "# pyspark\n",
    "import pyspark\n",
    "spark = pyspark.sql.SparkSession.builder.appName('bhishan').getOrCreate()\n",
    "print([(x.__name__,x.__version__) for x in [np, pd, pyspark]])"
   ]
  },
  {
   "cell_type": "code",
   "execution_count": 4,
   "metadata": {
    "ExecuteTime": {
     "end_time": "2021-02-24T20:58:01.785714Z",
     "start_time": "2021-02-24T20:58:01.746833Z"
    }
   },
   "outputs": [],
   "source": [
    "# pyspark sql\n",
    "from pyspark.sql.functions import col\n",
    "from pyspark.sql.functions import udf # @udf(\"integer\") def myfunc(x,y): return x - y\n",
    "from pyspark.sql import functions as F # stddev format_number date_format, dayofyear, when\n",
    "from pyspark.sql import Window\n",
    "from pyspark.sql.types import StructField, StringType, IntegerType, FloatType, StructType, DateType"
   ]
  },
  {
   "cell_type": "code",
   "execution_count": 5,
   "metadata": {
    "ExecuteTime": {
     "end_time": "2021-02-24T20:58:01.881975Z",
     "start_time": "2021-02-24T20:58:01.797189Z"
    }
   },
   "outputs": [],
   "source": [
    "# pyspark ml feature\n",
    "from pyspark.ml import feature as pml_feature"
   ]
  },
  {
   "cell_type": "code",
   "execution_count": 6,
   "metadata": {
    "ExecuteTime": {
     "end_time": "2021-02-24T20:58:01.899354Z",
     "start_time": "2021-02-24T20:58:01.891243Z"
    }
   },
   "outputs": [],
   "source": [
    "# classifiers\n",
    "from pyspark.ml.clustering import KMeans"
   ]
  },
  {
   "cell_type": "code",
   "execution_count": 7,
   "metadata": {
    "ExecuteTime": {
     "end_time": "2021-02-24T20:58:01.908285Z",
     "start_time": "2021-02-24T20:58:01.901585Z"
    }
   },
   "outputs": [],
   "source": [
    "# cross validation\n",
    "from pyspark.ml.tuning import ParamGridBuilder\n",
    "from pyspark.ml.tuning import CrossValidator\n",
    "from pyspark.ml.tuning import CrossValidatorModel"
   ]
  },
  {
   "cell_type": "code",
   "execution_count": 8,
   "metadata": {
    "ExecuteTime": {
     "end_time": "2021-02-24T20:58:01.918054Z",
     "start_time": "2021-02-24T20:58:01.914062Z"
    }
   },
   "outputs": [],
   "source": [
    "# model evaluation\n",
    "from pyspark.ml.evaluation import BinaryClassificationEvaluator\n",
    "from pyspark.ml.evaluation import MulticlassClassificationEvaluator\n",
    "from pyspark.ml.evaluation import ClusteringEvaluator"
   ]
  },
  {
   "cell_type": "code",
   "execution_count": 9,
   "metadata": {
    "ExecuteTime": {
     "end_time": "2021-02-24T20:58:01.934007Z",
     "start_time": "2021-02-24T20:58:01.922352Z"
    }
   },
   "outputs": [],
   "source": [
    "sc = spark.sparkContext\n",
    "sqlContext = pyspark.SQLContext(sc) # spark_df = sqlContext.createDataFrame(pandas_df)\n",
    "sc.setLogLevel(\"INFO\")"
   ]
  },
  {
   "cell_type": "code",
   "execution_count": 10,
   "metadata": {
    "ExecuteTime": {
     "end_time": "2021-02-24T20:58:02.937531Z",
     "start_time": "2021-02-24T20:58:01.940337Z"
    }
   },
   "outputs": [],
   "source": [
    "import sys\n",
    "\n",
    "sys.path.append(\"/Users/poudel/Dropbox/a00_Bhishan_Modules/bhishan\")\n",
    "\n",
    "from bhishan import bp"
   ]
  },
  {
   "cell_type": "markdown",
   "metadata": {},
   "source": [
    "# Load the data"
   ]
  },
  {
   "cell_type": "code",
   "execution_count": 11,
   "metadata": {
    "ExecuteTime": {
     "end_time": "2021-02-24T20:58:02.960169Z",
     "start_time": "2021-02-24T20:58:02.939853Z"
    }
   },
   "outputs": [
    {
     "name": "stdout",
     "output_type": "stream",
     "text": [
      "/Volumes/Media/github/Datasets/Business_Projects/Clustering_Grocery_Items\n",
      "item_to_id.csv\n",
      "purchase_history.csv\n",
      "/Volumes/Media/github/Project_Clustering_Grocery_Items\n"
     ]
    }
   ],
   "source": [
    "%%bash\n",
    "\n",
    "cd ../Datasets/Business_Projects/Clustering_Grocery_Items/\n",
    "pwd\n",
    "ls\n",
    "cd -"
   ]
  },
  {
   "cell_type": "code",
   "execution_count": 12,
   "metadata": {
    "ExecuteTime": {
     "end_time": "2021-02-24T20:58:02.982801Z",
     "start_time": "2021-02-24T20:58:02.962735Z"
    }
   },
   "outputs": [
    {
     "name": "stdout",
     "output_type": "stream",
     "text": [
      "\"Item_name\",\"Item_id\"\n",
      "\"coffee\",43\n",
      "\"tea\",23\n"
     ]
    }
   ],
   "source": [
    "%%bash\n",
    "head -3 /Volumes/Media/github/Datasets/Business_Projects/Clustering_Grocery_Items/item_to_id.csv"
   ]
  },
  {
   "cell_type": "code",
   "execution_count": 13,
   "metadata": {
    "ExecuteTime": {
     "end_time": "2021-02-24T20:58:03.016331Z",
     "start_time": "2021-02-24T20:58:02.985293Z"
    }
   },
   "outputs": [
    {
     "name": "stdout",
     "output_type": "stream",
     "text": [
      "\"user_id\",\"id\"\n",
      "222087,\"27,26\"\n",
      "1343649,\"6,47,17\"\n"
     ]
    }
   ],
   "source": [
    "%%bash\n",
    "head -3 /Volumes/Media/github/Datasets/Business_Projects/Clustering_Grocery_Items/purchase_history.csv"
   ]
  },
  {
   "cell_type": "code",
   "execution_count": 14,
   "metadata": {
    "ExecuteTime": {
     "end_time": "2021-02-24T20:58:07.386600Z",
     "start_time": "2021-02-24T20:58:03.019238Z"
    }
   },
   "outputs": [
    {
     "name": "stdout",
     "output_type": "stream",
     "text": [
      "nrows =  48 ncols =  2\n"
     ]
    },
    {
     "data": {
      "text/html": [
       "<div>\n",
       "<style scoped>\n",
       "    .dataframe tbody tr th:only-of-type {\n",
       "        vertical-align: middle;\n",
       "    }\n",
       "\n",
       "    .dataframe tbody tr th {\n",
       "        vertical-align: top;\n",
       "    }\n",
       "\n",
       "    .dataframe thead th {\n",
       "        text-align: right;\n",
       "    }\n",
       "</style>\n",
       "<table border=\"1\" class=\"dataframe\">\n",
       "  <thead>\n",
       "    <tr style=\"text-align: right;\">\n",
       "      <th></th>\n",
       "      <th>Item_name</th>\n",
       "      <th>Item_id</th>\n",
       "    </tr>\n",
       "  </thead>\n",
       "  <tbody>\n",
       "    <tr>\n",
       "      <th>0</th>\n",
       "      <td>coffee</td>\n",
       "      <td>43</td>\n",
       "    </tr>\n",
       "    <tr>\n",
       "      <th>1</th>\n",
       "      <td>tea</td>\n",
       "      <td>23</td>\n",
       "    </tr>\n",
       "    <tr>\n",
       "      <th>2</th>\n",
       "      <td>juice</td>\n",
       "      <td>38</td>\n",
       "    </tr>\n",
       "    <tr>\n",
       "      <th>3</th>\n",
       "      <td>soda</td>\n",
       "      <td>9</td>\n",
       "    </tr>\n",
       "    <tr>\n",
       "      <th>4</th>\n",
       "      <td>sandwich loaves</td>\n",
       "      <td>39</td>\n",
       "    </tr>\n",
       "  </tbody>\n",
       "</table>\n",
       "</div>"
      ],
      "text/plain": [
       "         Item_name  Item_id\n",
       "0           coffee       43\n",
       "1              tea       23\n",
       "2            juice       38\n",
       "3             soda        9\n",
       "4  sandwich loaves       39"
      ]
     },
     "execution_count": 14,
     "metadata": {},
     "output_type": "execute_result"
    }
   ],
   "source": [
    "p = \"/Volumes/Media/github/Datasets/Business_Projects/Clustering_Grocery_Items\"\n",
    "\n",
    "df_item = spark.read.csv(p + '/item_to_id.csv', header=True, inferSchema=True).cache()\n",
    "\n",
    "print('nrows = ', df_item.count(), 'ncols = ', len(df_item.columns))\n",
    "df_item.limit(5).toPandas()"
   ]
  },
  {
   "cell_type": "code",
   "execution_count": 15,
   "metadata": {
    "ExecuteTime": {
     "end_time": "2021-02-24T20:58:07.395469Z",
     "start_time": "2021-02-24T20:58:07.389372Z"
    }
   },
   "outputs": [
    {
     "name": "stdout",
     "output_type": "stream",
     "text": [
      "root\n",
      " |-- Item_name: string (nullable = true)\n",
      " |-- Item_id: integer (nullable = true)\n",
      "\n"
     ]
    }
   ],
   "source": [
    "df_item.printSchema()"
   ]
  },
  {
   "cell_type": "code",
   "execution_count": 16,
   "metadata": {
    "ExecuteTime": {
     "end_time": "2021-02-24T20:58:07.403316Z",
     "start_time": "2021-02-24T20:58:07.398062Z"
    }
   },
   "outputs": [
    {
     "name": "stdout",
     "output_type": "stream",
     "text": [
      "['Item_name', 'Item_id']\n"
     ]
    }
   ],
   "source": [
    "print(df_item.columns)"
   ]
  },
  {
   "cell_type": "code",
   "execution_count": 17,
   "metadata": {
    "ExecuteTime": {
     "end_time": "2021-02-24T20:58:08.602302Z",
     "start_time": "2021-02-24T20:58:07.406105Z"
    }
   },
   "outputs": [
    {
     "name": "stdout",
     "output_type": "stream",
     "text": [
      "nrows =  39474 ncols =  2\n"
     ]
    },
    {
     "data": {
      "text/html": [
       "<div>\n",
       "<style scoped>\n",
       "    .dataframe tbody tr th:only-of-type {\n",
       "        vertical-align: middle;\n",
       "    }\n",
       "\n",
       "    .dataframe tbody tr th {\n",
       "        vertical-align: top;\n",
       "    }\n",
       "\n",
       "    .dataframe thead th {\n",
       "        text-align: right;\n",
       "    }\n",
       "</style>\n",
       "<table border=\"1\" class=\"dataframe\">\n",
       "  <thead>\n",
       "    <tr style=\"text-align: right;\">\n",
       "      <th></th>\n",
       "      <th>user_id</th>\n",
       "      <th>id</th>\n",
       "    </tr>\n",
       "  </thead>\n",
       "  <tbody>\n",
       "    <tr>\n",
       "      <th>0</th>\n",
       "      <td>222087</td>\n",
       "      <td>27,26</td>\n",
       "    </tr>\n",
       "    <tr>\n",
       "      <th>1</th>\n",
       "      <td>1343649</td>\n",
       "      <td>6,47,17</td>\n",
       "    </tr>\n",
       "    <tr>\n",
       "      <th>2</th>\n",
       "      <td>404134</td>\n",
       "      <td>18,12,23,22,27,43,38,20,35,1</td>\n",
       "    </tr>\n",
       "    <tr>\n",
       "      <th>3</th>\n",
       "      <td>1110200</td>\n",
       "      <td>9,23,2,20,26,47,37</td>\n",
       "    </tr>\n",
       "    <tr>\n",
       "      <th>4</th>\n",
       "      <td>224107</td>\n",
       "      <td>31,18,5,13,1,21,48,16,26,2,44,32,20,37,42,35,4...</td>\n",
       "    </tr>\n",
       "  </tbody>\n",
       "</table>\n",
       "</div>"
      ],
      "text/plain": [
       "   user_id                                                 id\n",
       "0   222087                                              27,26\n",
       "1  1343649                                            6,47,17\n",
       "2   404134                       18,12,23,22,27,43,38,20,35,1\n",
       "3  1110200                                 9,23,2,20,26,47,37\n",
       "4   224107  31,18,5,13,1,21,48,16,26,2,44,32,20,37,42,35,4..."
      ]
     },
     "execution_count": 17,
     "metadata": {},
     "output_type": "execute_result"
    }
   ],
   "source": [
    "p = \"/Volumes/Media/github/Datasets/Business_Projects/Clustering_Grocery_Items\"\n",
    "\n",
    "df = spark.read.csv(p + '/purchase_history.csv', header=True, inferSchema=True).cache()\n",
    "\n",
    "print('nrows = ', df.count(), 'ncols = ', len(df.columns))\n",
    "df.limit(5).toPandas()"
   ]
  },
  {
   "cell_type": "code",
   "execution_count": 18,
   "metadata": {
    "ExecuteTime": {
     "end_time": "2021-02-24T20:58:08.831684Z",
     "start_time": "2021-02-24T20:58:08.605402Z"
    }
   },
   "outputs": [
    {
     "name": "stdout",
     "output_type": "stream",
     "text": [
      "+-----+\n",
      "|   id|\n",
      "+-----+\n",
      "|27,26|\n",
      "+-----+\n",
      "only showing top 1 row\n",
      "\n"
     ]
    }
   ],
   "source": [
    "df.select('id').show(1)"
   ]
  },
  {
   "cell_type": "code",
   "execution_count": 19,
   "metadata": {
    "ExecuteTime": {
     "end_time": "2021-02-24T20:58:09.191018Z",
     "start_time": "2021-02-24T20:58:08.834017Z"
    }
   },
   "outputs": [
    {
     "name": "stdout",
     "output_type": "stream",
     "text": [
      "+-------+-----------+\n",
      "|user_id|         id|\n",
      "+-------+-----------+\n",
      "| 222087|   [27, 26]|\n",
      "|1343649|[6, 47, 17]|\n",
      "+-------+-----------+\n",
      "only showing top 2 rows\n",
      "\n"
     ]
    }
   ],
   "source": [
    "# we may also cast as <int> but later we will make them columns\n",
    "# so, I will keep them string type.\n",
    "df = df.withColumn(\n",
    "    \"id\",\n",
    "    F.split(F.col(\"id\"), \",\\s*\").cast(\"array<string>\").alias(\"id\")\n",
    ")\n",
    "\n",
    "df.show(2)"
   ]
  },
  {
   "cell_type": "code",
   "execution_count": 20,
   "metadata": {
    "ExecuteTime": {
     "end_time": "2021-02-24T20:58:09.420008Z",
     "start_time": "2021-02-24T20:58:09.193651Z"
    }
   },
   "outputs": [
    {
     "name": "stdout",
     "output_type": "stream",
     "text": [
      "+-------+---+\n",
      "|user_id| id|\n",
      "+-------+---+\n",
      "| 222087| 27|\n",
      "| 222087| 26|\n",
      "|1343649|  6|\n",
      "|1343649| 47|\n",
      "|1343649| 17|\n",
      "| 404134| 18|\n",
      "+-------+---+\n",
      "only showing top 6 rows\n",
      "\n"
     ]
    }
   ],
   "source": [
    "df = df.withColumn(\n",
    "    \"id\",\n",
    "    F.explode(F.col(\"id\")).alias(\"id\")\n",
    ")\n",
    "\n",
    "df.show(6)"
   ]
  },
  {
   "cell_type": "code",
   "execution_count": 21,
   "metadata": {
    "ExecuteTime": {
     "end_time": "2021-02-24T20:58:14.309409Z",
     "start_time": "2021-02-24T20:58:09.423223Z"
    }
   },
   "outputs": [
    {
     "data": {
      "text/html": [
       "<div>\n",
       "<style scoped>\n",
       "    .dataframe tbody tr th:only-of-type {\n",
       "        vertical-align: middle;\n",
       "    }\n",
       "\n",
       "    .dataframe tbody tr th {\n",
       "        vertical-align: top;\n",
       "    }\n",
       "\n",
       "    .dataframe thead th {\n",
       "        text-align: right;\n",
       "    }\n",
       "</style>\n",
       "<table border=\"1\" class=\"dataframe\">\n",
       "  <thead>\n",
       "    <tr style=\"text-align: right;\">\n",
       "      <th></th>\n",
       "      <th>user_id_id</th>\n",
       "      <th>1</th>\n",
       "      <th>10</th>\n",
       "      <th>11</th>\n",
       "      <th>12</th>\n",
       "      <th>13</th>\n",
       "      <th>14</th>\n",
       "      <th>15</th>\n",
       "      <th>16</th>\n",
       "      <th>17</th>\n",
       "      <th>18</th>\n",
       "      <th>19</th>\n",
       "      <th>2</th>\n",
       "      <th>20</th>\n",
       "      <th>21</th>\n",
       "      <th>22</th>\n",
       "      <th>23</th>\n",
       "      <th>24</th>\n",
       "      <th>25</th>\n",
       "      <th>26</th>\n",
       "      <th>27</th>\n",
       "      <th>28</th>\n",
       "      <th>29</th>\n",
       "      <th>3</th>\n",
       "      <th>30</th>\n",
       "      <th>31</th>\n",
       "      <th>32</th>\n",
       "      <th>33</th>\n",
       "      <th>34</th>\n",
       "      <th>35</th>\n",
       "      <th>36</th>\n",
       "      <th>37</th>\n",
       "      <th>38</th>\n",
       "      <th>39</th>\n",
       "      <th>4</th>\n",
       "      <th>40</th>\n",
       "      <th>41</th>\n",
       "      <th>42</th>\n",
       "      <th>43</th>\n",
       "      <th>44</th>\n",
       "      <th>45</th>\n",
       "      <th>46</th>\n",
       "      <th>47</th>\n",
       "      <th>48</th>\n",
       "      <th>5</th>\n",
       "      <th>6</th>\n",
       "      <th>7</th>\n",
       "      <th>8</th>\n",
       "      <th>9</th>\n",
       "    </tr>\n",
       "  </thead>\n",
       "  <tbody>\n",
       "    <tr>\n",
       "      <th>0</th>\n",
       "      <td>508452</td>\n",
       "      <td>0</td>\n",
       "      <td>1</td>\n",
       "      <td>0</td>\n",
       "      <td>0</td>\n",
       "      <td>0</td>\n",
       "      <td>0</td>\n",
       "      <td>1</td>\n",
       "      <td>0</td>\n",
       "      <td>0</td>\n",
       "      <td>0</td>\n",
       "      <td>0</td>\n",
       "      <td>1</td>\n",
       "      <td>0</td>\n",
       "      <td>0</td>\n",
       "      <td>0</td>\n",
       "      <td>1</td>\n",
       "      <td>0</td>\n",
       "      <td>1</td>\n",
       "      <td>0</td>\n",
       "      <td>0</td>\n",
       "      <td>0</td>\n",
       "      <td>0</td>\n",
       "      <td>1</td>\n",
       "      <td>0</td>\n",
       "      <td>0</td>\n",
       "      <td>2</td>\n",
       "      <td>0</td>\n",
       "      <td>0</td>\n",
       "      <td>0</td>\n",
       "      <td>0</td>\n",
       "      <td>0</td>\n",
       "      <td>1</td>\n",
       "      <td>0</td>\n",
       "      <td>1</td>\n",
       "      <td>2</td>\n",
       "      <td>2</td>\n",
       "      <td>0</td>\n",
       "      <td>0</td>\n",
       "      <td>0</td>\n",
       "      <td>0</td>\n",
       "      <td>1</td>\n",
       "      <td>1</td>\n",
       "      <td>1</td>\n",
       "      <td>1</td>\n",
       "      <td>0</td>\n",
       "      <td>0</td>\n",
       "      <td>2</td>\n",
       "      <td>0</td>\n",
       "    </tr>\n",
       "    <tr>\n",
       "      <th>1</th>\n",
       "      <td>253101</td>\n",
       "      <td>0</td>\n",
       "      <td>0</td>\n",
       "      <td>0</td>\n",
       "      <td>0</td>\n",
       "      <td>0</td>\n",
       "      <td>1</td>\n",
       "      <td>1</td>\n",
       "      <td>1</td>\n",
       "      <td>0</td>\n",
       "      <td>1</td>\n",
       "      <td>0</td>\n",
       "      <td>1</td>\n",
       "      <td>1</td>\n",
       "      <td>1</td>\n",
       "      <td>1</td>\n",
       "      <td>0</td>\n",
       "      <td>1</td>\n",
       "      <td>0</td>\n",
       "      <td>1</td>\n",
       "      <td>0</td>\n",
       "      <td>0</td>\n",
       "      <td>0</td>\n",
       "      <td>0</td>\n",
       "      <td>0</td>\n",
       "      <td>0</td>\n",
       "      <td>0</td>\n",
       "      <td>0</td>\n",
       "      <td>0</td>\n",
       "      <td>0</td>\n",
       "      <td>0</td>\n",
       "      <td>0</td>\n",
       "      <td>0</td>\n",
       "      <td>0</td>\n",
       "      <td>0</td>\n",
       "      <td>1</td>\n",
       "      <td>1</td>\n",
       "      <td>1</td>\n",
       "      <td>1</td>\n",
       "      <td>0</td>\n",
       "      <td>1</td>\n",
       "      <td>1</td>\n",
       "      <td>1</td>\n",
       "      <td>2</td>\n",
       "      <td>0</td>\n",
       "      <td>1</td>\n",
       "      <td>0</td>\n",
       "      <td>0</td>\n",
       "      <td>0</td>\n",
       "    </tr>\n",
       "  </tbody>\n",
       "</table>\n",
       "</div>"
      ],
      "text/plain": [
       "  user_id_id  1  10  11  12  13  14  15  16  17  18  19  2  20  21  22  23  \\\n",
       "0     508452  0   1   0   0   0   0   1   0   0   0   0  1   0   0   0   1   \n",
       "1     253101  0   0   0   0   0   1   1   1   0   1   0  1   1   1   1   0   \n",
       "\n",
       "   24  25  26  27  28  29  3  30  31  32  33  34  35  36  37  38  39  4  40  \\\n",
       "0   0   1   0   0   0   0  1   0   0   2   0   0   0   0   0   1   0  1   2   \n",
       "1   1   0   1   0   0   0  0   0   0   0   0   0   0   0   0   0   0  0   1   \n",
       "\n",
       "   41  42  43  44  45  46  47  48  5  6  7  8  9  \n",
       "0   2   0   0   0   0   1   1   1  1  0  0  2  0  \n",
       "1   1   1   1   0   1   1   1   2  0  1  0  0  0  "
      ]
     },
     "execution_count": 21,
     "metadata": {},
     "output_type": "execute_result"
    }
   ],
   "source": [
    "df = df.crosstab('user_id','id')\n",
    "\n",
    "df.limit(2).toPandas()"
   ]
  },
  {
   "cell_type": "code",
   "execution_count": 22,
   "metadata": {
    "ExecuteTime": {
     "end_time": "2021-02-24T20:58:14.913041Z",
     "start_time": "2021-02-24T20:58:14.312217Z"
    }
   },
   "outputs": [
    {
     "name": "stdout",
     "output_type": "stream",
     "text": [
      "+----------+---+---+\n",
      "|user_id_id|  1| 10|\n",
      "+----------+---+---+\n",
      "|    508452|  0|  1|\n",
      "|    253101|  0|  0|\n",
      "|    507200|  0|  0|\n",
      "|    576533|  0|  0|\n",
      "+----------+---+---+\n",
      "only showing top 4 rows\n",
      "\n"
     ]
    }
   ],
   "source": [
    "df.select(\"user_id_id\",\"1\",\"10\").show(4)"
   ]
  },
  {
   "cell_type": "code",
   "execution_count": 23,
   "metadata": {
    "ExecuteTime": {
     "end_time": "2021-02-24T20:58:15.109006Z",
     "start_time": "2021-02-24T20:58:14.920138Z"
    }
   },
   "outputs": [
    {
     "data": {
      "text/html": [
       "<div>\n",
       "<style scoped>\n",
       "    .dataframe tbody tr th:only-of-type {\n",
       "        vertical-align: middle;\n",
       "    }\n",
       "\n",
       "    .dataframe tbody tr th {\n",
       "        vertical-align: top;\n",
       "    }\n",
       "\n",
       "    .dataframe thead th {\n",
       "        text-align: right;\n",
       "    }\n",
       "</style>\n",
       "<table border=\"1\" class=\"dataframe\">\n",
       "  <thead>\n",
       "    <tr style=\"text-align: right;\">\n",
       "      <th></th>\n",
       "      <th>Item_name</th>\n",
       "      <th>Item_id</th>\n",
       "    </tr>\n",
       "  </thead>\n",
       "  <tbody>\n",
       "    <tr>\n",
       "      <th>0</th>\n",
       "      <td>sugar</td>\n",
       "      <td>1</td>\n",
       "    </tr>\n",
       "    <tr>\n",
       "      <th>1</th>\n",
       "      <td>lettuce</td>\n",
       "      <td>2</td>\n",
       "    </tr>\n",
       "    <tr>\n",
       "      <th>2</th>\n",
       "      <td>pet items</td>\n",
       "      <td>3</td>\n",
       "    </tr>\n",
       "    <tr>\n",
       "      <th>3</th>\n",
       "      <td>baby items</td>\n",
       "      <td>4</td>\n",
       "    </tr>\n",
       "    <tr>\n",
       "      <th>4</th>\n",
       "      <td>waffles</td>\n",
       "      <td>5</td>\n",
       "    </tr>\n",
       "    <tr>\n",
       "      <th>5</th>\n",
       "      <td>poultry</td>\n",
       "      <td>6</td>\n",
       "    </tr>\n",
       "    <tr>\n",
       "      <th>6</th>\n",
       "      <td>sandwich bags</td>\n",
       "      <td>7</td>\n",
       "    </tr>\n",
       "    <tr>\n",
       "      <th>7</th>\n",
       "      <td>butter</td>\n",
       "      <td>8</td>\n",
       "    </tr>\n",
       "    <tr>\n",
       "      <th>8</th>\n",
       "      <td>soda</td>\n",
       "      <td>9</td>\n",
       "    </tr>\n",
       "    <tr>\n",
       "      <th>9</th>\n",
       "      <td>carrots</td>\n",
       "      <td>10</td>\n",
       "    </tr>\n",
       "    <tr>\n",
       "      <th>10</th>\n",
       "      <td>cereals</td>\n",
       "      <td>11</td>\n",
       "    </tr>\n",
       "  </tbody>\n",
       "</table>\n",
       "</div>"
      ],
      "text/plain": [
       "        Item_name  Item_id\n",
       "0           sugar        1\n",
       "1         lettuce        2\n",
       "2       pet items        3\n",
       "3      baby items        4\n",
       "4         waffles        5\n",
       "5         poultry        6\n",
       "6   sandwich bags        7\n",
       "7          butter        8\n",
       "8            soda        9\n",
       "9         carrots       10\n",
       "10        cereals       11"
      ]
     },
     "execution_count": 23,
     "metadata": {},
     "output_type": "execute_result"
    }
   ],
   "source": [
    "df_item.sort('Item_id').limit(11).toPandas()"
   ]
  },
  {
   "cell_type": "code",
   "execution_count": 24,
   "metadata": {
    "ExecuteTime": {
     "end_time": "2021-02-24T20:58:15.344448Z",
     "start_time": "2021-02-24T20:58:15.113269Z"
    }
   },
   "outputs": [
    {
     "data": {
      "text/plain": [
       "(['coffee', 'tea', 'juice', 'soda', 'sandwich loaves'],\n",
       " ['43', '23', '38', '9', '39'])"
      ]
     },
     "execution_count": 24,
     "metadata": {},
     "output_type": "execute_result"
    }
   ],
   "source": [
    "item_name = [i.asDict()['Item_name'] for i in df_item.select('Item_name').collect()]\n",
    "item_id = [ str(i.asDict()['item_id']) for i in df_item.select('item_id').collect()]\n",
    "\n",
    "item_name[:5], item_id[:5] "
   ]
  },
  {
   "cell_type": "code",
   "execution_count": 25,
   "metadata": {
    "ExecuteTime": {
     "end_time": "2021-02-24T20:58:16.001347Z",
     "start_time": "2021-02-24T20:58:15.353322Z"
    }
   },
   "outputs": [
    {
     "data": {
      "text/html": [
       "<div>\n",
       "<style scoped>\n",
       "    .dataframe tbody tr th:only-of-type {\n",
       "        vertical-align: middle;\n",
       "    }\n",
       "\n",
       "    .dataframe tbody tr th {\n",
       "        vertical-align: top;\n",
       "    }\n",
       "\n",
       "    .dataframe thead th {\n",
       "        text-align: right;\n",
       "    }\n",
       "</style>\n",
       "<table border=\"1\" class=\"dataframe\">\n",
       "  <thead>\n",
       "    <tr style=\"text-align: right;\">\n",
       "      <th></th>\n",
       "      <th>user_id_id</th>\n",
       "      <th>sugar</th>\n",
       "      <th>carrots</th>\n",
       "      <th>cereals</th>\n",
       "      <th>shampoo</th>\n",
       "    </tr>\n",
       "  </thead>\n",
       "  <tbody>\n",
       "    <tr>\n",
       "      <th>0</th>\n",
       "      <td>508452</td>\n",
       "      <td>0</td>\n",
       "      <td>1</td>\n",
       "      <td>0</td>\n",
       "      <td>0</td>\n",
       "    </tr>\n",
       "    <tr>\n",
       "      <th>1</th>\n",
       "      <td>253101</td>\n",
       "      <td>0</td>\n",
       "      <td>0</td>\n",
       "      <td>0</td>\n",
       "      <td>0</td>\n",
       "    </tr>\n",
       "  </tbody>\n",
       "</table>\n",
       "</div>"
      ],
      "text/plain": [
       "  user_id_id  sugar  carrots  cereals  shampoo\n",
       "0     508452      0        1        0        0\n",
       "1     253101      0        0        0        0"
      ]
     },
     "execution_count": 25,
     "metadata": {},
     "output_type": "execute_result"
    }
   ],
   "source": [
    "mapping = dict(zip(item_id, item_name))\n",
    "new_names = [df.columns[0]] + [F.col(c).alias(mapping.get(c, c)) for c in df.columns if c in item_id]\n",
    "\n",
    "df = df.select(new_names)\n",
    "\n",
    "df.select(df.columns[:5]).limit(2).toPandas()"
   ]
  },
  {
   "cell_type": "code",
   "execution_count": 26,
   "metadata": {
    "ExecuteTime": {
     "end_time": "2021-02-24T20:58:16.555395Z",
     "start_time": "2021-02-24T20:58:16.003802Z"
    }
   },
   "outputs": [
    {
     "data": {
      "text/html": [
       "<div>\n",
       "<style scoped>\n",
       "    .dataframe tbody tr th:only-of-type {\n",
       "        vertical-align: middle;\n",
       "    }\n",
       "\n",
       "    .dataframe tbody tr th {\n",
       "        vertical-align: top;\n",
       "    }\n",
       "\n",
       "    .dataframe thead th {\n",
       "        text-align: right;\n",
       "    }\n",
       "</style>\n",
       "<table border=\"1\" class=\"dataframe\">\n",
       "  <thead>\n",
       "    <tr style=\"text-align: right;\">\n",
       "      <th></th>\n",
       "      <th>concat(user_, user_id_id)</th>\n",
       "    </tr>\n",
       "  </thead>\n",
       "  <tbody>\n",
       "    <tr>\n",
       "      <th>0</th>\n",
       "      <td>user_508452</td>\n",
       "    </tr>\n",
       "    <tr>\n",
       "      <th>1</th>\n",
       "      <td>user_253101</td>\n",
       "    </tr>\n",
       "  </tbody>\n",
       "</table>\n",
       "</div>"
      ],
      "text/plain": [
       "  concat(user_, user_id_id)\n",
       "0               user_508452\n",
       "1               user_253101"
      ]
     },
     "execution_count": 26,
     "metadata": {},
     "output_type": "execute_result"
    }
   ],
   "source": [
    "vals = df.select(F.concat(F.lit(\"user_\"), F.col(\"user_id_id\")))\n",
    "vals.limit(2).toPandas()"
   ]
  },
  {
   "cell_type": "code",
   "execution_count": 27,
   "metadata": {
    "ExecuteTime": {
     "end_time": "2021-02-24T20:58:16.572363Z",
     "start_time": "2021-02-24T20:58:16.565064Z"
    }
   },
   "outputs": [],
   "source": [
    "# we can create new column with user_ + id name like this.\n",
    "# df.withColumn(\"user_id\",\n",
    "#              F.concat(F.lit(\"user_\"), F.col(\"user_id_id\"))\n",
    "#              ).show(2)"
   ]
  },
  {
   "cell_type": "markdown",
   "metadata": {},
   "source": [
    "# Qn1: the customer who bought the most items overall in her lifetime"
   ]
  },
  {
   "cell_type": "code",
   "execution_count": 28,
   "metadata": {
    "ExecuteTime": {
     "end_time": "2021-02-24T20:58:17.453300Z",
     "start_time": "2021-02-24T20:58:16.574283Z"
    }
   },
   "outputs": [
    {
     "data": {
      "text/html": [
       "<div>\n",
       "<style scoped>\n",
       "    .dataframe tbody tr th:only-of-type {\n",
       "        vertical-align: middle;\n",
       "    }\n",
       "\n",
       "    .dataframe tbody tr th {\n",
       "        vertical-align: top;\n",
       "    }\n",
       "\n",
       "    .dataframe thead th {\n",
       "        text-align: right;\n",
       "    }\n",
       "</style>\n",
       "<table border=\"1\" class=\"dataframe\">\n",
       "  <thead>\n",
       "    <tr style=\"text-align: right;\">\n",
       "      <th></th>\n",
       "      <th>user_id_id</th>\n",
       "      <th>sugar</th>\n",
       "      <th>carrots</th>\n",
       "      <th>cereals</th>\n",
       "      <th>shampoo</th>\n",
       "      <th>bagels</th>\n",
       "      <th>eggs</th>\n",
       "      <th>aluminum foil</th>\n",
       "      <th>milk</th>\n",
       "      <th>beef</th>\n",
       "      <th>laundry detergent</th>\n",
       "      <th>shaving cream</th>\n",
       "      <th>lettuce</th>\n",
       "      <th>grapefruit</th>\n",
       "      <th>cheeses</th>\n",
       "      <th>frozen vegetables</th>\n",
       "      <th>tea</th>\n",
       "      <th>paper towels</th>\n",
       "      <th>cherries</th>\n",
       "      <th>spaghetti sauce</th>\n",
       "      <th>dishwashing</th>\n",
       "      <th>canned vegetables</th>\n",
       "      <th>hand soap</th>\n",
       "      <th>pet items</th>\n",
       "      <th>flour</th>\n",
       "      <th>pasta</th>\n",
       "      <th>apples</th>\n",
       "      <th>toilet paper</th>\n",
       "      <th>tortillas</th>\n",
       "      <th>soap</th>\n",
       "      <th>ice cream</th>\n",
       "      <th>dinner rolls</th>\n",
       "      <th>juice</th>\n",
       "      <th>sandwich loaves</th>\n",
       "      <th>baby items</th>\n",
       "      <th>berries</th>\n",
       "      <th>ketchup</th>\n",
       "      <th>cucumbers</th>\n",
       "      <th>coffee</th>\n",
       "      <th>broccoli</th>\n",
       "      <th>cauliflower</th>\n",
       "      <th>bananas</th>\n",
       "      <th>pork</th>\n",
       "      <th>yogurt</th>\n",
       "      <th>waffles</th>\n",
       "      <th>poultry</th>\n",
       "      <th>sandwich bags</th>\n",
       "      <th>butter</th>\n",
       "      <th>soda</th>\n",
       "      <th>row_total</th>\n",
       "    </tr>\n",
       "  </thead>\n",
       "  <tbody>\n",
       "    <tr>\n",
       "      <th>0</th>\n",
       "      <td>508452</td>\n",
       "      <td>0</td>\n",
       "      <td>1</td>\n",
       "      <td>0</td>\n",
       "      <td>0</td>\n",
       "      <td>0</td>\n",
       "      <td>0</td>\n",
       "      <td>1</td>\n",
       "      <td>0</td>\n",
       "      <td>0</td>\n",
       "      <td>0</td>\n",
       "      <td>0</td>\n",
       "      <td>1</td>\n",
       "      <td>0</td>\n",
       "      <td>0</td>\n",
       "      <td>0</td>\n",
       "      <td>1</td>\n",
       "      <td>0</td>\n",
       "      <td>1</td>\n",
       "      <td>0</td>\n",
       "      <td>0</td>\n",
       "      <td>0</td>\n",
       "      <td>0</td>\n",
       "      <td>1</td>\n",
       "      <td>0</td>\n",
       "      <td>0</td>\n",
       "      <td>2</td>\n",
       "      <td>0</td>\n",
       "      <td>0</td>\n",
       "      <td>0</td>\n",
       "      <td>0</td>\n",
       "      <td>0</td>\n",
       "      <td>1</td>\n",
       "      <td>0</td>\n",
       "      <td>1</td>\n",
       "      <td>2</td>\n",
       "      <td>2</td>\n",
       "      <td>0</td>\n",
       "      <td>0</td>\n",
       "      <td>0</td>\n",
       "      <td>0</td>\n",
       "      <td>1</td>\n",
       "      <td>1</td>\n",
       "      <td>1</td>\n",
       "      <td>1</td>\n",
       "      <td>0</td>\n",
       "      <td>0</td>\n",
       "      <td>2</td>\n",
       "      <td>0</td>\n",
       "      <td>20</td>\n",
       "    </tr>\n",
       "    <tr>\n",
       "      <th>1</th>\n",
       "      <td>253101</td>\n",
       "      <td>0</td>\n",
       "      <td>0</td>\n",
       "      <td>0</td>\n",
       "      <td>0</td>\n",
       "      <td>0</td>\n",
       "      <td>1</td>\n",
       "      <td>1</td>\n",
       "      <td>1</td>\n",
       "      <td>0</td>\n",
       "      <td>1</td>\n",
       "      <td>0</td>\n",
       "      <td>1</td>\n",
       "      <td>1</td>\n",
       "      <td>1</td>\n",
       "      <td>1</td>\n",
       "      <td>0</td>\n",
       "      <td>1</td>\n",
       "      <td>0</td>\n",
       "      <td>1</td>\n",
       "      <td>0</td>\n",
       "      <td>0</td>\n",
       "      <td>0</td>\n",
       "      <td>0</td>\n",
       "      <td>0</td>\n",
       "      <td>0</td>\n",
       "      <td>0</td>\n",
       "      <td>0</td>\n",
       "      <td>0</td>\n",
       "      <td>0</td>\n",
       "      <td>0</td>\n",
       "      <td>0</td>\n",
       "      <td>0</td>\n",
       "      <td>0</td>\n",
       "      <td>0</td>\n",
       "      <td>1</td>\n",
       "      <td>1</td>\n",
       "      <td>1</td>\n",
       "      <td>1</td>\n",
       "      <td>0</td>\n",
       "      <td>1</td>\n",
       "      <td>1</td>\n",
       "      <td>1</td>\n",
       "      <td>2</td>\n",
       "      <td>0</td>\n",
       "      <td>1</td>\n",
       "      <td>0</td>\n",
       "      <td>0</td>\n",
       "      <td>0</td>\n",
       "      <td>20</td>\n",
       "    </tr>\n",
       "  </tbody>\n",
       "</table>\n",
       "</div>"
      ],
      "text/plain": [
       "  user_id_id  sugar  carrots  cereals  shampoo  bagels  eggs  aluminum foil  \\\n",
       "0     508452      0        1        0        0       0     0              1   \n",
       "1     253101      0        0        0        0       0     1              1   \n",
       "\n",
       "   milk  beef  laundry detergent  shaving cream  lettuce  grapefruit  cheeses  \\\n",
       "0     0     0                  0              0        1           0        0   \n",
       "1     1     0                  1              0        1           1        1   \n",
       "\n",
       "   frozen vegetables  tea  paper towels  cherries  spaghetti sauce  \\\n",
       "0                  0    1             0         1                0   \n",
       "1                  1    0             1         0                1   \n",
       "\n",
       "   dishwashing   canned vegetables  hand soap  pet items  flour  pasta  \\\n",
       "0             0                  0          0          1      0      0   \n",
       "1             0                  0          0          0      0      0   \n",
       "\n",
       "   apples  toilet paper  tortillas  soap  ice cream  dinner rolls  juice  \\\n",
       "0       2             0          0     0          0             0      1   \n",
       "1       0             0          0     0          0             0      0   \n",
       "\n",
       "   sandwich loaves  baby items  berries  ketchup  cucumbers  coffee  broccoli  \\\n",
       "0                0           1        2        2          0       0         0   \n",
       "1                0           0        1        1          1       1         0   \n",
       "\n",
       "   cauliflower  bananas  pork  yogurt  waffles  poultry  sandwich bags  \\\n",
       "0            0        1     1       1        1        0              0   \n",
       "1            1        1     1       2        0        1              0   \n",
       "\n",
       "   butter  soda  row_total  \n",
       "0       2     0         20  \n",
       "1       0     0         20  "
      ]
     },
     "execution_count": 28,
     "metadata": {},
     "output_type": "execute_result"
    }
   ],
   "source": [
    "df2 = df.withColumn('row_total', sum(df[c] for c in df.columns if c not in ['user_id_id']))\n",
    "\n",
    "# expression = ' + '.join([ '`' + i + '`' for i in df.columns if i not in ['user_id_id']])\n",
    "# df = df.withColumn('row_total', F.expr(expression))\n",
    "\n",
    "\n",
    "df2.limit(2).toPandas()"
   ]
  },
  {
   "cell_type": "code",
   "execution_count": 29,
   "metadata": {
    "ExecuteTime": {
     "end_time": "2021-02-24T20:58:18.487451Z",
     "start_time": "2021-02-24T20:58:17.461949Z"
    }
   },
   "outputs": [
    {
     "name": "stdout",
     "output_type": "stream",
     "text": [
      "+----------+---------+\n",
      "|user_id_id|row_total|\n",
      "+----------+---------+\n",
      "|    269335|       72|\n",
      "|    367872|       70|\n",
      "|    397623|       64|\n",
      "|    599172|       64|\n",
      "|    377284|       63|\n",
      "+----------+---------+\n",
      "only showing top 5 rows\n",
      "\n"
     ]
    }
   ],
   "source": [
    "df2.sort(F.desc('row_total')).select('user_id_id', 'row_total').show(5)"
   ]
  },
  {
   "cell_type": "markdown",
   "metadata": {},
   "source": [
    "# Qn2: for each item, the customer who bought that product the most"
   ]
  },
  {
   "cell_type": "code",
   "execution_count": 30,
   "metadata": {
    "ExecuteTime": {
     "end_time": "2021-02-24T20:58:19.031263Z",
     "start_time": "2021-02-24T20:58:18.490177Z"
    }
   },
   "outputs": [
    {
     "data": {
      "text/html": [
       "<div>\n",
       "<style scoped>\n",
       "    .dataframe tbody tr th:only-of-type {\n",
       "        vertical-align: middle;\n",
       "    }\n",
       "\n",
       "    .dataframe tbody tr th {\n",
       "        vertical-align: top;\n",
       "    }\n",
       "\n",
       "    .dataframe thead th {\n",
       "        text-align: right;\n",
       "    }\n",
       "</style>\n",
       "<table border=\"1\" class=\"dataframe\">\n",
       "  <thead>\n",
       "    <tr style=\"text-align: right;\">\n",
       "      <th></th>\n",
       "      <th>user_id_id</th>\n",
       "      <th>sugar</th>\n",
       "      <th>carrots</th>\n",
       "      <th>cereals</th>\n",
       "      <th>shampoo</th>\n",
       "      <th>bagels</th>\n",
       "      <th>eggs</th>\n",
       "      <th>aluminum foil</th>\n",
       "      <th>milk</th>\n",
       "      <th>beef</th>\n",
       "      <th>laundry detergent</th>\n",
       "      <th>shaving cream</th>\n",
       "      <th>lettuce</th>\n",
       "      <th>grapefruit</th>\n",
       "      <th>cheeses</th>\n",
       "      <th>frozen vegetables</th>\n",
       "      <th>tea</th>\n",
       "      <th>paper towels</th>\n",
       "      <th>cherries</th>\n",
       "      <th>spaghetti sauce</th>\n",
       "      <th>dishwashing</th>\n",
       "      <th>canned vegetables</th>\n",
       "      <th>hand soap</th>\n",
       "      <th>pet items</th>\n",
       "      <th>flour</th>\n",
       "      <th>pasta</th>\n",
       "      <th>apples</th>\n",
       "      <th>toilet paper</th>\n",
       "      <th>tortillas</th>\n",
       "      <th>soap</th>\n",
       "      <th>ice cream</th>\n",
       "      <th>dinner rolls</th>\n",
       "      <th>juice</th>\n",
       "      <th>sandwich loaves</th>\n",
       "      <th>baby items</th>\n",
       "      <th>berries</th>\n",
       "      <th>ketchup</th>\n",
       "      <th>cucumbers</th>\n",
       "      <th>coffee</th>\n",
       "      <th>broccoli</th>\n",
       "      <th>cauliflower</th>\n",
       "      <th>bananas</th>\n",
       "      <th>pork</th>\n",
       "      <th>yogurt</th>\n",
       "      <th>waffles</th>\n",
       "      <th>poultry</th>\n",
       "      <th>sandwich bags</th>\n",
       "      <th>butter</th>\n",
       "      <th>soda</th>\n",
       "    </tr>\n",
       "  </thead>\n",
       "  <tbody>\n",
       "    <tr>\n",
       "      <th>0</th>\n",
       "      <td>508452</td>\n",
       "      <td>0</td>\n",
       "      <td>1</td>\n",
       "      <td>0</td>\n",
       "      <td>0</td>\n",
       "      <td>0</td>\n",
       "      <td>0</td>\n",
       "      <td>1</td>\n",
       "      <td>0</td>\n",
       "      <td>0</td>\n",
       "      <td>0</td>\n",
       "      <td>0</td>\n",
       "      <td>1</td>\n",
       "      <td>0</td>\n",
       "      <td>0</td>\n",
       "      <td>0</td>\n",
       "      <td>1</td>\n",
       "      <td>0</td>\n",
       "      <td>1</td>\n",
       "      <td>0</td>\n",
       "      <td>0</td>\n",
       "      <td>0</td>\n",
       "      <td>0</td>\n",
       "      <td>1</td>\n",
       "      <td>0</td>\n",
       "      <td>0</td>\n",
       "      <td>2</td>\n",
       "      <td>0</td>\n",
       "      <td>0</td>\n",
       "      <td>0</td>\n",
       "      <td>0</td>\n",
       "      <td>0</td>\n",
       "      <td>1</td>\n",
       "      <td>0</td>\n",
       "      <td>1</td>\n",
       "      <td>2</td>\n",
       "      <td>2</td>\n",
       "      <td>0</td>\n",
       "      <td>0</td>\n",
       "      <td>0</td>\n",
       "      <td>0</td>\n",
       "      <td>1</td>\n",
       "      <td>1</td>\n",
       "      <td>1</td>\n",
       "      <td>1</td>\n",
       "      <td>0</td>\n",
       "      <td>0</td>\n",
       "      <td>2</td>\n",
       "      <td>0</td>\n",
       "    </tr>\n",
       "    <tr>\n",
       "      <th>1</th>\n",
       "      <td>253101</td>\n",
       "      <td>0</td>\n",
       "      <td>0</td>\n",
       "      <td>0</td>\n",
       "      <td>0</td>\n",
       "      <td>0</td>\n",
       "      <td>1</td>\n",
       "      <td>1</td>\n",
       "      <td>1</td>\n",
       "      <td>0</td>\n",
       "      <td>1</td>\n",
       "      <td>0</td>\n",
       "      <td>1</td>\n",
       "      <td>1</td>\n",
       "      <td>1</td>\n",
       "      <td>1</td>\n",
       "      <td>0</td>\n",
       "      <td>1</td>\n",
       "      <td>0</td>\n",
       "      <td>1</td>\n",
       "      <td>0</td>\n",
       "      <td>0</td>\n",
       "      <td>0</td>\n",
       "      <td>0</td>\n",
       "      <td>0</td>\n",
       "      <td>0</td>\n",
       "      <td>0</td>\n",
       "      <td>0</td>\n",
       "      <td>0</td>\n",
       "      <td>0</td>\n",
       "      <td>0</td>\n",
       "      <td>0</td>\n",
       "      <td>0</td>\n",
       "      <td>0</td>\n",
       "      <td>0</td>\n",
       "      <td>1</td>\n",
       "      <td>1</td>\n",
       "      <td>1</td>\n",
       "      <td>1</td>\n",
       "      <td>0</td>\n",
       "      <td>1</td>\n",
       "      <td>1</td>\n",
       "      <td>1</td>\n",
       "      <td>2</td>\n",
       "      <td>0</td>\n",
       "      <td>1</td>\n",
       "      <td>0</td>\n",
       "      <td>0</td>\n",
       "      <td>0</td>\n",
       "    </tr>\n",
       "  </tbody>\n",
       "</table>\n",
       "</div>"
      ],
      "text/plain": [
       "  user_id_id  sugar  carrots  cereals  shampoo  bagels  eggs  aluminum foil  \\\n",
       "0     508452      0        1        0        0       0     0              1   \n",
       "1     253101      0        0        0        0       0     1              1   \n",
       "\n",
       "   milk  beef  laundry detergent  shaving cream  lettuce  grapefruit  cheeses  \\\n",
       "0     0     0                  0              0        1           0        0   \n",
       "1     1     0                  1              0        1           1        1   \n",
       "\n",
       "   frozen vegetables  tea  paper towels  cherries  spaghetti sauce  \\\n",
       "0                  0    1             0         1                0   \n",
       "1                  1    0             1         0                1   \n",
       "\n",
       "   dishwashing   canned vegetables  hand soap  pet items  flour  pasta  \\\n",
       "0             0                  0          0          1      0      0   \n",
       "1             0                  0          0          0      0      0   \n",
       "\n",
       "   apples  toilet paper  tortillas  soap  ice cream  dinner rolls  juice  \\\n",
       "0       2             0          0     0          0             0      1   \n",
       "1       0             0          0     0          0             0      0   \n",
       "\n",
       "   sandwich loaves  baby items  berries  ketchup  cucumbers  coffee  broccoli  \\\n",
       "0                0           1        2        2          0       0         0   \n",
       "1                0           0        1        1          1       1         0   \n",
       "\n",
       "   cauliflower  bananas  pork  yogurt  waffles  poultry  sandwich bags  \\\n",
       "0            0        1     1       1        1        0              0   \n",
       "1            1        1     1       2        0        1              0   \n",
       "\n",
       "   butter  soda  \n",
       "0       2     0  \n",
       "1       0     0  "
      ]
     },
     "execution_count": 30,
     "metadata": {},
     "output_type": "execute_result"
    }
   ],
   "source": [
    "df.limit(2).toPandas()"
   ]
  },
  {
   "cell_type": "code",
   "execution_count": 31,
   "metadata": {
    "ExecuteTime": {
     "end_time": "2021-02-24T20:58:19.110712Z",
     "start_time": "2021-02-24T20:58:19.034101Z"
    }
   },
   "outputs": [],
   "source": [
    "df.createOrReplaceTempView(\"grocery\")\n",
    "\n",
    "# spark.sql('select * from grocery limit 1').show()"
   ]
  },
  {
   "cell_type": "code",
   "execution_count": 32,
   "metadata": {
    "ExecuteTime": {
     "end_time": "2021-02-24T20:58:19.126890Z",
     "start_time": "2021-02-24T20:58:19.115804Z"
    }
   },
   "outputs": [
    {
     "name": "stdout",
     "output_type": "stream",
     "text": [
      "`dishwashing `\n"
     ]
    }
   ],
   "source": [
    "# look for bad column names: eg leading/trailing spaces\n",
    "\n",
    "\n",
    "for c in df.columns:\n",
    "    if 'dish' in c:\n",
    "        print(f\"`{c}`\")"
   ]
  },
  {
   "cell_type": "code",
   "execution_count": 33,
   "metadata": {
    "ExecuteTime": {
     "end_time": "2021-02-24T20:58:19.132046Z",
     "start_time": "2021-02-24T20:58:19.128918Z"
    }
   },
   "outputs": [],
   "source": [
    "# we see that column name `dishwasing ` has a trailing space in the end.\n",
    "# we need to rename this."
   ]
  },
  {
   "cell_type": "code",
   "execution_count": 34,
   "metadata": {
    "ExecuteTime": {
     "end_time": "2021-02-24T20:58:19.300359Z",
     "start_time": "2021-02-24T20:58:19.134965Z"
    }
   },
   "outputs": [
    {
     "name": "stdout",
     "output_type": "stream",
     "text": [
      "['`user_id_id`', '`sugar`', '`carrots`', '`cereals`', '`shampoo`', '`bagels`', '`eggs`', '`aluminum foil`', '`milk`', '`beef`', '`laundry detergent`', '`shaving cream`', '`lettuce`', '`grapefruit`', '`cheeses`', '`frozen vegetables`', '`tea`', '`paper towels`', '`cherries`', '`spaghetti sauce`', '`dishwashing\\xa0`', '`canned vegetables`', '`hand soap`', '`pet items`', '`flour`', '`pasta`', '`apples`', '`toilet paper`', '`tortillas`', '`soap`', '`ice cream`', '`dinner rolls`', '`juice`', '`sandwich loaves`', '`baby items`', '`berries`', '`ketchup`', '`cucumbers`', '`coffee`', '`broccoli`', '`cauliflower`', '`bananas`', '`pork`', '`yogurt`', '`waffles`', '`poultry`', '`sandwich bags`', '`butter`', '`soda`', '`row_total`']\n"
     ]
    }
   ],
   "source": [
    "# trim spaces both sides\n",
    "\n",
    "# bad column is `dishwashing\\xa0`\n",
    "# df = df.select([F.trim(c) for c in df.columns]) # this did not work.\n",
    "\n",
    "df = df.select([F.col(c).alias(c.strip()) for c in df.columns]) # this works.\n",
    "\n",
    "\n",
    "print([f\"`{c}`\" for c in df2.columns]) # make sure there are not bad columns "
   ]
  },
  {
   "cell_type": "code",
   "execution_count": 35,
   "metadata": {
    "ExecuteTime": {
     "end_time": "2021-02-24T20:58:19.437729Z",
     "start_time": "2021-02-24T20:58:19.305555Z"
    }
   },
   "outputs": [],
   "source": [
    "# replace space by _\n",
    "df = df.select([F.col(c).alias(c.replace(' ', '_')) for c in df.columns])\n",
    "\n",
    "# exprs = [col(c).alias(c.replace(' ', '_')) for c in df.columns]\n",
    "# df3 = df.select(*exprs)"
   ]
  },
  {
   "cell_type": "code",
   "execution_count": 36,
   "metadata": {
    "ExecuteTime": {
     "end_time": "2021-02-24T20:58:19.447129Z",
     "start_time": "2021-02-24T20:58:19.440011Z"
    }
   },
   "outputs": [
    {
     "name": "stdout",
     "output_type": "stream",
     "text": [
      "['`user_id_id`', '`sugar`', '`carrots`', '`cereals`', '`shampoo`', '`bagels`', '`eggs`', '`aluminum_foil`', '`milk`', '`beef`', '`laundry_detergent`', '`shaving_cream`', '`lettuce`', '`grapefruit`', '`cheeses`', '`frozen_vegetables`', '`tea`', '`paper_towels`', '`cherries`', '`spaghetti_sauce`', '`dishwashing`', '`canned_vegetables`', '`hand_soap`', '`pet_items`', '`flour`', '`pasta`', '`apples`', '`toilet_paper`', '`tortillas`', '`soap`', '`ice_cream`', '`dinner_rolls`', '`juice`', '`sandwich_loaves`', '`baby_items`', '`berries`', '`ketchup`', '`cucumbers`', '`coffee`', '`broccoli`', '`cauliflower`', '`bananas`', '`pork`', '`yogurt`', '`waffles`', '`poultry`', '`sandwich_bags`', '`butter`', '`soda`']\n"
     ]
    }
   ],
   "source": [
    "print([f\"`{c}`\" for c in df.columns]) # make sure there are not bad columns here."
   ]
  },
  {
   "cell_type": "code",
   "execution_count": 37,
   "metadata": {
    "ExecuteTime": {
     "end_time": "2021-02-24T20:58:20.164784Z",
     "start_time": "2021-02-24T20:58:19.449916Z"
    }
   },
   "outputs": [
    {
     "data": {
      "text/html": [
       "<div>\n",
       "<style scoped>\n",
       "    .dataframe tbody tr th:only-of-type {\n",
       "        vertical-align: middle;\n",
       "    }\n",
       "\n",
       "    .dataframe tbody tr th {\n",
       "        vertical-align: top;\n",
       "    }\n",
       "\n",
       "    .dataframe thead th {\n",
       "        text-align: right;\n",
       "    }\n",
       "</style>\n",
       "<table border=\"1\" class=\"dataframe\">\n",
       "  <thead>\n",
       "    <tr style=\"text-align: right;\">\n",
       "      <th></th>\n",
       "      <th>user_id</th>\n",
       "      <th>sugar</th>\n",
       "      <th>carrots</th>\n",
       "      <th>cereals</th>\n",
       "      <th>shampoo</th>\n",
       "      <th>bagels</th>\n",
       "      <th>eggs</th>\n",
       "      <th>aluminum_foil</th>\n",
       "      <th>milk</th>\n",
       "      <th>beef</th>\n",
       "      <th>laundry_detergent</th>\n",
       "      <th>shaving_cream</th>\n",
       "      <th>lettuce</th>\n",
       "      <th>grapefruit</th>\n",
       "      <th>cheeses</th>\n",
       "      <th>frozen_vegetables</th>\n",
       "      <th>tea</th>\n",
       "      <th>paper_towels</th>\n",
       "      <th>cherries</th>\n",
       "      <th>spaghetti_sauce</th>\n",
       "      <th>dishwashing</th>\n",
       "      <th>canned_vegetables</th>\n",
       "      <th>hand_soap</th>\n",
       "      <th>pet_items</th>\n",
       "      <th>flour</th>\n",
       "      <th>pasta</th>\n",
       "      <th>apples</th>\n",
       "      <th>toilet_paper</th>\n",
       "      <th>tortillas</th>\n",
       "      <th>soap</th>\n",
       "      <th>ice_cream</th>\n",
       "      <th>dinner_rolls</th>\n",
       "      <th>juice</th>\n",
       "      <th>sandwich_loaves</th>\n",
       "      <th>baby_items</th>\n",
       "      <th>berries</th>\n",
       "      <th>ketchup</th>\n",
       "      <th>cucumbers</th>\n",
       "      <th>coffee</th>\n",
       "      <th>broccoli</th>\n",
       "      <th>cauliflower</th>\n",
       "      <th>bananas</th>\n",
       "      <th>pork</th>\n",
       "      <th>yogurt</th>\n",
       "      <th>waffles</th>\n",
       "      <th>poultry</th>\n",
       "      <th>sandwich_bags</th>\n",
       "      <th>butter</th>\n",
       "      <th>soda</th>\n",
       "    </tr>\n",
       "  </thead>\n",
       "  <tbody>\n",
       "    <tr>\n",
       "      <th>0</th>\n",
       "      <td>508452</td>\n",
       "      <td>0</td>\n",
       "      <td>1</td>\n",
       "      <td>0</td>\n",
       "      <td>0</td>\n",
       "      <td>0</td>\n",
       "      <td>0</td>\n",
       "      <td>1</td>\n",
       "      <td>0</td>\n",
       "      <td>0</td>\n",
       "      <td>0</td>\n",
       "      <td>0</td>\n",
       "      <td>1</td>\n",
       "      <td>0</td>\n",
       "      <td>0</td>\n",
       "      <td>0</td>\n",
       "      <td>1</td>\n",
       "      <td>0</td>\n",
       "      <td>1</td>\n",
       "      <td>0</td>\n",
       "      <td>0</td>\n",
       "      <td>0</td>\n",
       "      <td>0</td>\n",
       "      <td>1</td>\n",
       "      <td>0</td>\n",
       "      <td>0</td>\n",
       "      <td>2</td>\n",
       "      <td>0</td>\n",
       "      <td>0</td>\n",
       "      <td>0</td>\n",
       "      <td>0</td>\n",
       "      <td>0</td>\n",
       "      <td>1</td>\n",
       "      <td>0</td>\n",
       "      <td>1</td>\n",
       "      <td>2</td>\n",
       "      <td>2</td>\n",
       "      <td>0</td>\n",
       "      <td>0</td>\n",
       "      <td>0</td>\n",
       "      <td>0</td>\n",
       "      <td>1</td>\n",
       "      <td>1</td>\n",
       "      <td>1</td>\n",
       "      <td>1</td>\n",
       "      <td>0</td>\n",
       "      <td>0</td>\n",
       "      <td>2</td>\n",
       "      <td>0</td>\n",
       "    </tr>\n",
       "    <tr>\n",
       "      <th>1</th>\n",
       "      <td>253101</td>\n",
       "      <td>0</td>\n",
       "      <td>0</td>\n",
       "      <td>0</td>\n",
       "      <td>0</td>\n",
       "      <td>0</td>\n",
       "      <td>1</td>\n",
       "      <td>1</td>\n",
       "      <td>1</td>\n",
       "      <td>0</td>\n",
       "      <td>1</td>\n",
       "      <td>0</td>\n",
       "      <td>1</td>\n",
       "      <td>1</td>\n",
       "      <td>1</td>\n",
       "      <td>1</td>\n",
       "      <td>0</td>\n",
       "      <td>1</td>\n",
       "      <td>0</td>\n",
       "      <td>1</td>\n",
       "      <td>0</td>\n",
       "      <td>0</td>\n",
       "      <td>0</td>\n",
       "      <td>0</td>\n",
       "      <td>0</td>\n",
       "      <td>0</td>\n",
       "      <td>0</td>\n",
       "      <td>0</td>\n",
       "      <td>0</td>\n",
       "      <td>0</td>\n",
       "      <td>0</td>\n",
       "      <td>0</td>\n",
       "      <td>0</td>\n",
       "      <td>0</td>\n",
       "      <td>0</td>\n",
       "      <td>1</td>\n",
       "      <td>1</td>\n",
       "      <td>1</td>\n",
       "      <td>1</td>\n",
       "      <td>0</td>\n",
       "      <td>1</td>\n",
       "      <td>1</td>\n",
       "      <td>1</td>\n",
       "      <td>2</td>\n",
       "      <td>0</td>\n",
       "      <td>1</td>\n",
       "      <td>0</td>\n",
       "      <td>0</td>\n",
       "      <td>0</td>\n",
       "    </tr>\n",
       "  </tbody>\n",
       "</table>\n",
       "</div>"
      ],
      "text/plain": [
       "  user_id  sugar  carrots  cereals  shampoo  bagels  eggs  aluminum_foil  \\\n",
       "0  508452      0        1        0        0       0     0              1   \n",
       "1  253101      0        0        0        0       0     1              1   \n",
       "\n",
       "   milk  beef  laundry_detergent  shaving_cream  lettuce  grapefruit  cheeses  \\\n",
       "0     0     0                  0              0        1           0        0   \n",
       "1     1     0                  1              0        1           1        1   \n",
       "\n",
       "   frozen_vegetables  tea  paper_towels  cherries  spaghetti_sauce  \\\n",
       "0                  0    1             0         1                0   \n",
       "1                  1    0             1         0                1   \n",
       "\n",
       "   dishwashing  canned_vegetables  hand_soap  pet_items  flour  pasta  apples  \\\n",
       "0            0                  0          0          1      0      0       2   \n",
       "1            0                  0          0          0      0      0       0   \n",
       "\n",
       "   toilet_paper  tortillas  soap  ice_cream  dinner_rolls  juice  \\\n",
       "0             0          0     0          0             0      1   \n",
       "1             0          0     0          0             0      0   \n",
       "\n",
       "   sandwich_loaves  baby_items  berries  ketchup  cucumbers  coffee  broccoli  \\\n",
       "0                0           1        2        2          0       0         0   \n",
       "1                0           0        1        1          1       1         0   \n",
       "\n",
       "   cauliflower  bananas  pork  yogurt  waffles  poultry  sandwich_bags  \\\n",
       "0            0        1     1       1        1        0              0   \n",
       "1            1        1     1       2        0        1              0   \n",
       "\n",
       "   butter  soda  \n",
       "0       2     0  \n",
       "1       0     0  "
      ]
     },
     "execution_count": 37,
     "metadata": {},
     "output_type": "execute_result"
    }
   ],
   "source": [
    "# rename first column\n",
    "df = df.withColumnRenamed('user_id_id','user_id')\n",
    "\n",
    "df.limit(2).toPandas()"
   ]
  },
  {
   "cell_type": "code",
   "execution_count": 38,
   "metadata": {
    "ExecuteTime": {
     "end_time": "2021-02-24T20:58:25.883969Z",
     "start_time": "2021-02-24T20:58:20.167147Z"
    }
   },
   "outputs": [
    {
     "name": "stdout",
     "output_type": "stream",
     "text": [
      "+-------------+--------------------+---------+\n",
      "|         item|            max_user|max_count|\n",
      "+-------------+--------------------+---------+\n",
      "|aluminum_foil|            [143741]|        3|\n",
      "|       apples|[1310896, 545108,...|        4|\n",
      "|   baby_items|[5289, 73071, 432...|        3|\n",
      "|       bagels|    [653800, 820788]|        4|\n",
      "|      bananas|  [1269111, 1218645]|        4|\n",
      "+-------------+--------------------+---------+\n",
      "only showing top 5 rows\n",
      "\n"
     ]
    }
   ],
   "source": [
    "df2 = df.selectExpr(\n",
    "    'user_id',\n",
    "    f'stack({len(df.columns[1:])}, ' + ', '.join([\"'%s', `%s`\" % (c, c) for c in df.columns[1:]]) + ') as (item, values)'\n",
    ").withColumn(\n",
    "    'rn',\n",
    "    F.rank().over(Window.partitionBy('item').orderBy(F.desc('values')))\n",
    ").filter('rn = 1').groupBy('item').agg(\n",
    "    F.collect_list('user_id').alias('max_user'),\n",
    "    F.max('values').alias('max_count')\n",
    ").orderBy('item')\n",
    "\n",
    "df2.show(5)"
   ]
  },
  {
   "cell_type": "code",
   "execution_count": 39,
   "metadata": {
    "ExecuteTime": {
     "end_time": "2021-02-24T20:58:30.680004Z",
     "start_time": "2021-02-24T20:58:25.886567Z"
    }
   },
   "outputs": [
    {
     "name": "stdout",
     "output_type": "stream",
     "text": [
      "+-------------+--------------------+---------+\n",
      "|         item|            max_user|max_count|\n",
      "+-------------+--------------------+---------+\n",
      "|aluminum_foil|            [143741]|        3|\n",
      "|       apples|[1310896, 545108,...|        4|\n",
      "|   baby_items|[5289, 73071, 432...|        3|\n",
      "|       bagels|    [653800, 820788]|        4|\n",
      "|      bananas|  [1269111, 1218645]|        4|\n",
      "+-------------+--------------------+---------+\n",
      "only showing top 5 rows\n",
      "\n"
     ]
    }
   ],
   "source": [
    "df.createOrReplaceTempView(\"grocery\")\n",
    "\n",
    "names = ', '.join([\"'%s', `%s`\" % (c, c) for c in df.columns[1:]])\n",
    "q = f\"\"\"\n",
    "    select\n",
    "        item,\n",
    "        collect_list(user_id) as max_user,\n",
    "        max(values) as max_count\n",
    "    from (\n",
    "        select *,\n",
    "            rank() over (partition by item order by values desc) as rn\n",
    "        from (\n",
    "            select\n",
    "                user_id,\n",
    "                stack({len(df.columns[1:])}, {names}) as (item, values)\n",
    "            from grocery\n",
    "        )\n",
    "    )\n",
    "    where rn = 1 and item is not null\n",
    "    group by item\n",
    "    order by item\n",
    "\"\"\"\n",
    "\n",
    "spark.sql(q).show(5)"
   ]
  },
  {
   "cell_type": "markdown",
   "metadata": {},
   "source": [
    "# Qn3: Modelling Clustering of Similar Items"
   ]
  },
  {
   "cell_type": "code",
   "execution_count": 40,
   "metadata": {
    "ExecuteTime": {
     "end_time": "2021-02-24T20:58:30.717449Z",
     "start_time": "2021-02-24T20:58:30.683831Z"
    }
   },
   "outputs": [],
   "source": [
    "from pyspark.ml.feature import VectorAssembler\n",
    "from pyspark.ml.feature import StandardScaler\n",
    "from pyspark.ml.feature import Normalizer\n",
    "\n",
    "from pyspark.mllib.linalg.distributed import IndexedRow, IndexedRowMatrix"
   ]
  },
  {
   "cell_type": "code",
   "execution_count": 41,
   "metadata": {
    "ExecuteTime": {
     "end_time": "2021-02-24T20:58:31.437573Z",
     "start_time": "2021-02-24T20:58:30.721497Z"
    }
   },
   "outputs": [
    {
     "data": {
      "text/html": [
       "<div>\n",
       "<style scoped>\n",
       "    .dataframe tbody tr th:only-of-type {\n",
       "        vertical-align: middle;\n",
       "    }\n",
       "\n",
       "    .dataframe tbody tr th {\n",
       "        vertical-align: top;\n",
       "    }\n",
       "\n",
       "    .dataframe thead th {\n",
       "        text-align: right;\n",
       "    }\n",
       "</style>\n",
       "<table border=\"1\" class=\"dataframe\">\n",
       "  <thead>\n",
       "    <tr style=\"text-align: right;\">\n",
       "      <th></th>\n",
       "      <th>user_id</th>\n",
       "      <th>sugar</th>\n",
       "      <th>carrots</th>\n",
       "      <th>cereals</th>\n",
       "      <th>shampoo</th>\n",
       "      <th>bagels</th>\n",
       "      <th>eggs</th>\n",
       "      <th>aluminum_foil</th>\n",
       "      <th>milk</th>\n",
       "      <th>beef</th>\n",
       "      <th>laundry_detergent</th>\n",
       "      <th>shaving_cream</th>\n",
       "      <th>lettuce</th>\n",
       "      <th>grapefruit</th>\n",
       "      <th>cheeses</th>\n",
       "      <th>frozen_vegetables</th>\n",
       "      <th>tea</th>\n",
       "      <th>paper_towels</th>\n",
       "      <th>cherries</th>\n",
       "      <th>spaghetti_sauce</th>\n",
       "      <th>dishwashing</th>\n",
       "      <th>canned_vegetables</th>\n",
       "      <th>hand_soap</th>\n",
       "      <th>pet_items</th>\n",
       "      <th>flour</th>\n",
       "      <th>pasta</th>\n",
       "      <th>apples</th>\n",
       "      <th>toilet_paper</th>\n",
       "      <th>tortillas</th>\n",
       "      <th>soap</th>\n",
       "      <th>ice_cream</th>\n",
       "      <th>dinner_rolls</th>\n",
       "      <th>juice</th>\n",
       "      <th>sandwich_loaves</th>\n",
       "      <th>baby_items</th>\n",
       "      <th>berries</th>\n",
       "      <th>ketchup</th>\n",
       "      <th>cucumbers</th>\n",
       "      <th>coffee</th>\n",
       "      <th>broccoli</th>\n",
       "      <th>cauliflower</th>\n",
       "      <th>bananas</th>\n",
       "      <th>pork</th>\n",
       "      <th>yogurt</th>\n",
       "      <th>waffles</th>\n",
       "      <th>poultry</th>\n",
       "      <th>sandwich_bags</th>\n",
       "      <th>butter</th>\n",
       "      <th>soda</th>\n",
       "    </tr>\n",
       "  </thead>\n",
       "  <tbody>\n",
       "    <tr>\n",
       "      <th>0</th>\n",
       "      <td>508452</td>\n",
       "      <td>0</td>\n",
       "      <td>1</td>\n",
       "      <td>0</td>\n",
       "      <td>0</td>\n",
       "      <td>0</td>\n",
       "      <td>0</td>\n",
       "      <td>1</td>\n",
       "      <td>0</td>\n",
       "      <td>0</td>\n",
       "      <td>0</td>\n",
       "      <td>0</td>\n",
       "      <td>1</td>\n",
       "      <td>0</td>\n",
       "      <td>0</td>\n",
       "      <td>0</td>\n",
       "      <td>1</td>\n",
       "      <td>0</td>\n",
       "      <td>1</td>\n",
       "      <td>0</td>\n",
       "      <td>0</td>\n",
       "      <td>0</td>\n",
       "      <td>0</td>\n",
       "      <td>1</td>\n",
       "      <td>0</td>\n",
       "      <td>0</td>\n",
       "      <td>2</td>\n",
       "      <td>0</td>\n",
       "      <td>0</td>\n",
       "      <td>0</td>\n",
       "      <td>0</td>\n",
       "      <td>0</td>\n",
       "      <td>1</td>\n",
       "      <td>0</td>\n",
       "      <td>1</td>\n",
       "      <td>2</td>\n",
       "      <td>2</td>\n",
       "      <td>0</td>\n",
       "      <td>0</td>\n",
       "      <td>0</td>\n",
       "      <td>0</td>\n",
       "      <td>1</td>\n",
       "      <td>1</td>\n",
       "      <td>1</td>\n",
       "      <td>1</td>\n",
       "      <td>0</td>\n",
       "      <td>0</td>\n",
       "      <td>2</td>\n",
       "      <td>0</td>\n",
       "    </tr>\n",
       "    <tr>\n",
       "      <th>1</th>\n",
       "      <td>253101</td>\n",
       "      <td>0</td>\n",
       "      <td>0</td>\n",
       "      <td>0</td>\n",
       "      <td>0</td>\n",
       "      <td>0</td>\n",
       "      <td>1</td>\n",
       "      <td>1</td>\n",
       "      <td>1</td>\n",
       "      <td>0</td>\n",
       "      <td>1</td>\n",
       "      <td>0</td>\n",
       "      <td>1</td>\n",
       "      <td>1</td>\n",
       "      <td>1</td>\n",
       "      <td>1</td>\n",
       "      <td>0</td>\n",
       "      <td>1</td>\n",
       "      <td>0</td>\n",
       "      <td>1</td>\n",
       "      <td>0</td>\n",
       "      <td>0</td>\n",
       "      <td>0</td>\n",
       "      <td>0</td>\n",
       "      <td>0</td>\n",
       "      <td>0</td>\n",
       "      <td>0</td>\n",
       "      <td>0</td>\n",
       "      <td>0</td>\n",
       "      <td>0</td>\n",
       "      <td>0</td>\n",
       "      <td>0</td>\n",
       "      <td>0</td>\n",
       "      <td>0</td>\n",
       "      <td>0</td>\n",
       "      <td>1</td>\n",
       "      <td>1</td>\n",
       "      <td>1</td>\n",
       "      <td>1</td>\n",
       "      <td>0</td>\n",
       "      <td>1</td>\n",
       "      <td>1</td>\n",
       "      <td>1</td>\n",
       "      <td>2</td>\n",
       "      <td>0</td>\n",
       "      <td>1</td>\n",
       "      <td>0</td>\n",
       "      <td>0</td>\n",
       "      <td>0</td>\n",
       "    </tr>\n",
       "  </tbody>\n",
       "</table>\n",
       "</div>"
      ],
      "text/plain": [
       "  user_id  sugar  carrots  cereals  shampoo  bagels  eggs  aluminum_foil  \\\n",
       "0  508452      0        1        0        0       0     0              1   \n",
       "1  253101      0        0        0        0       0     1              1   \n",
       "\n",
       "   milk  beef  laundry_detergent  shaving_cream  lettuce  grapefruit  cheeses  \\\n",
       "0     0     0                  0              0        1           0        0   \n",
       "1     1     0                  1              0        1           1        1   \n",
       "\n",
       "   frozen_vegetables  tea  paper_towels  cherries  spaghetti_sauce  \\\n",
       "0                  0    1             0         1                0   \n",
       "1                  1    0             1         0                1   \n",
       "\n",
       "   dishwashing  canned_vegetables  hand_soap  pet_items  flour  pasta  apples  \\\n",
       "0            0                  0          0          1      0      0       2   \n",
       "1            0                  0          0          0      0      0       0   \n",
       "\n",
       "   toilet_paper  tortillas  soap  ice_cream  dinner_rolls  juice  \\\n",
       "0             0          0     0          0             0      1   \n",
       "1             0          0     0          0             0      0   \n",
       "\n",
       "   sandwich_loaves  baby_items  berries  ketchup  cucumbers  coffee  broccoli  \\\n",
       "0                0           1        2        2          0       0         0   \n",
       "1                0           0        1        1          1       1         0   \n",
       "\n",
       "   cauliflower  bananas  pork  yogurt  waffles  poultry  sandwich_bags  \\\n",
       "0            0        1     1       1        1        0              0   \n",
       "1            1        1     1       2        0        1              0   \n",
       "\n",
       "   butter  soda  \n",
       "0       2     0  \n",
       "1       0     0  "
      ]
     },
     "execution_count": 41,
     "metadata": {},
     "output_type": "execute_result"
    }
   ],
   "source": [
    "df.limit(2).toPandas()"
   ]
  },
  {
   "cell_type": "code",
   "execution_count": 43,
   "metadata": {
    "ExecuteTime": {
     "end_time": "2021-02-24T21:02:23.896012Z",
     "start_time": "2021-02-24T21:02:23.521649Z"
    }
   },
   "outputs": [],
   "source": [
    "# assemble\n",
    "assembler = VectorAssembler(inputCols=df.columns[1:], outputCol='features')\n",
    "df = assembler.transform(df)\n",
    "\n",
    "# scaling\n",
    "norm = Normalizer(inputCol='features',outputCol='norm')\n",
    "df = norm.transform(df)"
   ]
  },
  {
   "cell_type": "code",
   "execution_count": 44,
   "metadata": {
    "ExecuteTime": {
     "end_time": "2021-02-24T21:02:28.272052Z",
     "start_time": "2021-02-24T21:02:27.060654Z"
    }
   },
   "outputs": [
    {
     "data": {
      "text/html": [
       "<div>\n",
       "<style scoped>\n",
       "    .dataframe tbody tr th:only-of-type {\n",
       "        vertical-align: middle;\n",
       "    }\n",
       "\n",
       "    .dataframe tbody tr th {\n",
       "        vertical-align: top;\n",
       "    }\n",
       "\n",
       "    .dataframe thead th {\n",
       "        text-align: right;\n",
       "    }\n",
       "</style>\n",
       "<table border=\"1\" class=\"dataframe\">\n",
       "  <thead>\n",
       "    <tr style=\"text-align: right;\">\n",
       "      <th></th>\n",
       "      <th>user_id</th>\n",
       "      <th>sugar</th>\n",
       "      <th>carrots</th>\n",
       "      <th>cereals</th>\n",
       "      <th>shampoo</th>\n",
       "      <th>bagels</th>\n",
       "      <th>eggs</th>\n",
       "      <th>aluminum_foil</th>\n",
       "      <th>milk</th>\n",
       "      <th>beef</th>\n",
       "      <th>laundry_detergent</th>\n",
       "      <th>shaving_cream</th>\n",
       "      <th>lettuce</th>\n",
       "      <th>grapefruit</th>\n",
       "      <th>cheeses</th>\n",
       "      <th>frozen_vegetables</th>\n",
       "      <th>tea</th>\n",
       "      <th>paper_towels</th>\n",
       "      <th>cherries</th>\n",
       "      <th>spaghetti_sauce</th>\n",
       "      <th>dishwashing</th>\n",
       "      <th>canned_vegetables</th>\n",
       "      <th>hand_soap</th>\n",
       "      <th>pet_items</th>\n",
       "      <th>flour</th>\n",
       "      <th>pasta</th>\n",
       "      <th>apples</th>\n",
       "      <th>toilet_paper</th>\n",
       "      <th>tortillas</th>\n",
       "      <th>soap</th>\n",
       "      <th>ice_cream</th>\n",
       "      <th>dinner_rolls</th>\n",
       "      <th>juice</th>\n",
       "      <th>sandwich_loaves</th>\n",
       "      <th>baby_items</th>\n",
       "      <th>berries</th>\n",
       "      <th>ketchup</th>\n",
       "      <th>cucumbers</th>\n",
       "      <th>coffee</th>\n",
       "      <th>broccoli</th>\n",
       "      <th>cauliflower</th>\n",
       "      <th>bananas</th>\n",
       "      <th>pork</th>\n",
       "      <th>yogurt</th>\n",
       "      <th>waffles</th>\n",
       "      <th>poultry</th>\n",
       "      <th>sandwich_bags</th>\n",
       "      <th>butter</th>\n",
       "      <th>soda</th>\n",
       "      <th>features</th>\n",
       "      <th>norm</th>\n",
       "    </tr>\n",
       "  </thead>\n",
       "  <tbody>\n",
       "    <tr>\n",
       "      <th>0</th>\n",
       "      <td>508452</td>\n",
       "      <td>0</td>\n",
       "      <td>1</td>\n",
       "      <td>0</td>\n",
       "      <td>0</td>\n",
       "      <td>0</td>\n",
       "      <td>0</td>\n",
       "      <td>1</td>\n",
       "      <td>0</td>\n",
       "      <td>0</td>\n",
       "      <td>0</td>\n",
       "      <td>0</td>\n",
       "      <td>1</td>\n",
       "      <td>0</td>\n",
       "      <td>0</td>\n",
       "      <td>0</td>\n",
       "      <td>1</td>\n",
       "      <td>0</td>\n",
       "      <td>1</td>\n",
       "      <td>0</td>\n",
       "      <td>0</td>\n",
       "      <td>0</td>\n",
       "      <td>0</td>\n",
       "      <td>1</td>\n",
       "      <td>0</td>\n",
       "      <td>0</td>\n",
       "      <td>2</td>\n",
       "      <td>0</td>\n",
       "      <td>0</td>\n",
       "      <td>0</td>\n",
       "      <td>0</td>\n",
       "      <td>0</td>\n",
       "      <td>1</td>\n",
       "      <td>0</td>\n",
       "      <td>1</td>\n",
       "      <td>2</td>\n",
       "      <td>2</td>\n",
       "      <td>0</td>\n",
       "      <td>0</td>\n",
       "      <td>0</td>\n",
       "      <td>0</td>\n",
       "      <td>1</td>\n",
       "      <td>1</td>\n",
       "      <td>1</td>\n",
       "      <td>1</td>\n",
       "      <td>0</td>\n",
       "      <td>0</td>\n",
       "      <td>2</td>\n",
       "      <td>0</td>\n",
       "      <td>(0.0, 1.0, 0.0, 0.0, 0.0, 0.0, 1.0, 0.0, 0.0, ...</td>\n",
       "      <td>(0.0, 0.1889822365046136, 0.0, 0.0, 0.0, 0.0, ...</td>\n",
       "    </tr>\n",
       "    <tr>\n",
       "      <th>1</th>\n",
       "      <td>253101</td>\n",
       "      <td>0</td>\n",
       "      <td>0</td>\n",
       "      <td>0</td>\n",
       "      <td>0</td>\n",
       "      <td>0</td>\n",
       "      <td>1</td>\n",
       "      <td>1</td>\n",
       "      <td>1</td>\n",
       "      <td>0</td>\n",
       "      <td>1</td>\n",
       "      <td>0</td>\n",
       "      <td>1</td>\n",
       "      <td>1</td>\n",
       "      <td>1</td>\n",
       "      <td>1</td>\n",
       "      <td>0</td>\n",
       "      <td>1</td>\n",
       "      <td>0</td>\n",
       "      <td>1</td>\n",
       "      <td>0</td>\n",
       "      <td>0</td>\n",
       "      <td>0</td>\n",
       "      <td>0</td>\n",
       "      <td>0</td>\n",
       "      <td>0</td>\n",
       "      <td>0</td>\n",
       "      <td>0</td>\n",
       "      <td>0</td>\n",
       "      <td>0</td>\n",
       "      <td>0</td>\n",
       "      <td>0</td>\n",
       "      <td>0</td>\n",
       "      <td>0</td>\n",
       "      <td>0</td>\n",
       "      <td>1</td>\n",
       "      <td>1</td>\n",
       "      <td>1</td>\n",
       "      <td>1</td>\n",
       "      <td>0</td>\n",
       "      <td>1</td>\n",
       "      <td>1</td>\n",
       "      <td>1</td>\n",
       "      <td>2</td>\n",
       "      <td>0</td>\n",
       "      <td>1</td>\n",
       "      <td>0</td>\n",
       "      <td>0</td>\n",
       "      <td>0</td>\n",
       "      <td>(0.0, 0.0, 0.0, 0.0, 0.0, 1.0, 1.0, 1.0, 0.0, ...</td>\n",
       "      <td>(0.0, 0.0, 0.0, 0.0, 0.0, 0.21320071635561041,...</td>\n",
       "    </tr>\n",
       "  </tbody>\n",
       "</table>\n",
       "</div>"
      ],
      "text/plain": [
       "  user_id  sugar  carrots  cereals  shampoo  bagels  eggs  aluminum_foil  \\\n",
       "0  508452      0        1        0        0       0     0              1   \n",
       "1  253101      0        0        0        0       0     1              1   \n",
       "\n",
       "   milk  beef  laundry_detergent  shaving_cream  lettuce  grapefruit  cheeses  \\\n",
       "0     0     0                  0              0        1           0        0   \n",
       "1     1     0                  1              0        1           1        1   \n",
       "\n",
       "   frozen_vegetables  tea  paper_towels  cherries  spaghetti_sauce  \\\n",
       "0                  0    1             0         1                0   \n",
       "1                  1    0             1         0                1   \n",
       "\n",
       "   dishwashing  canned_vegetables  hand_soap  pet_items  flour  pasta  apples  \\\n",
       "0            0                  0          0          1      0      0       2   \n",
       "1            0                  0          0          0      0      0       0   \n",
       "\n",
       "   toilet_paper  tortillas  soap  ice_cream  dinner_rolls  juice  \\\n",
       "0             0          0     0          0             0      1   \n",
       "1             0          0     0          0             0      0   \n",
       "\n",
       "   sandwich_loaves  baby_items  berries  ketchup  cucumbers  coffee  broccoli  \\\n",
       "0                0           1        2        2          0       0         0   \n",
       "1                0           0        1        1          1       1         0   \n",
       "\n",
       "   cauliflower  bananas  pork  yogurt  waffles  poultry  sandwich_bags  \\\n",
       "0            0        1     1       1        1        0              0   \n",
       "1            1        1     1       2        0        1              0   \n",
       "\n",
       "   butter  soda                                           features  \\\n",
       "0       2     0  (0.0, 1.0, 0.0, 0.0, 0.0, 0.0, 1.0, 0.0, 0.0, ...   \n",
       "1       0     0  (0.0, 0.0, 0.0, 0.0, 0.0, 1.0, 1.0, 1.0, 0.0, ...   \n",
       "\n",
       "                                                norm  \n",
       "0  (0.0, 0.1889822365046136, 0.0, 0.0, 0.0, 0.0, ...  \n",
       "1  (0.0, 0.0, 0.0, 0.0, 0.0, 0.21320071635561041,...  "
      ]
     },
     "execution_count": 44,
     "metadata": {},
     "output_type": "execute_result"
    }
   ],
   "source": [
    "df.limit(2).toPandas()"
   ]
  },
  {
   "cell_type": "code",
   "execution_count": 45,
   "metadata": {
    "ExecuteTime": {
     "end_time": "2021-02-24T21:02:49.697934Z",
     "start_time": "2021-02-24T21:02:40.206697Z"
    }
   },
   "outputs": [
    {
     "ename": "IllegalArgumentException",
     "evalue": "requirement failed: The length of the values array must be less than Int.MaxValue. Currently numRows * numCols: 2249925000625",
     "output_type": "error",
     "traceback": [
      "\u001b[0;31m---------------------------------------------------------------------------\u001b[0m",
      "\u001b[0;31mIllegalArgumentException\u001b[0m                  Traceback (most recent call last)",
      "\u001b[0;32m<ipython-input-45-0b7b9f9f81d8>\u001b[0m in \u001b[0;36m<module>\u001b[0;34m\u001b[0m\n\u001b[1;32m      5\u001b[0m \u001b[0mdot\u001b[0m \u001b[0;34m=\u001b[0m \u001b[0mmat\u001b[0m\u001b[0;34m.\u001b[0m\u001b[0mmultiply\u001b[0m\u001b[0;34m(\u001b[0m\u001b[0mmat\u001b[0m\u001b[0;34m.\u001b[0m\u001b[0mtranspose\u001b[0m\u001b[0;34m(\u001b[0m\u001b[0;34m)\u001b[0m\u001b[0;34m)\u001b[0m\u001b[0;34m\u001b[0m\u001b[0;34m\u001b[0m\u001b[0m\n\u001b[1;32m      6\u001b[0m \u001b[0;34m\u001b[0m\u001b[0m\n\u001b[0;32m----> 7\u001b[0;31m \u001b[0mX\u001b[0m \u001b[0;34m=\u001b[0m \u001b[0mdot\u001b[0m\u001b[0;34m.\u001b[0m\u001b[0mtoLocalMatrix\u001b[0m\u001b[0;34m(\u001b[0m\u001b[0;34m)\u001b[0m\u001b[0;34m.\u001b[0m\u001b[0mtoArray\u001b[0m\u001b[0;34m(\u001b[0m\u001b[0;34m)\u001b[0m\u001b[0;34m\u001b[0m\u001b[0;34m\u001b[0m\u001b[0m\n\u001b[0m\u001b[1;32m      8\u001b[0m \u001b[0;34m\u001b[0m\u001b[0m\n",
      "\u001b[0;32m~/opt/miniconda3/envs/spk/lib/python3.7/site-packages/pyspark/mllib/linalg/distributed.py\u001b[0m in \u001b[0;36mtoLocalMatrix\u001b[0;34m(self)\u001b[0m\n\u001b[1;32m   1331\u001b[0m         \u001b[0;36m2\u001b[0m\u001b[0;34m\u001b[0m\u001b[0;34m\u001b[0m\u001b[0m\n\u001b[1;32m   1332\u001b[0m         \"\"\"\n\u001b[0;32m-> 1333\u001b[0;31m         \u001b[0;32mreturn\u001b[0m \u001b[0mself\u001b[0m\u001b[0;34m.\u001b[0m\u001b[0m_java_matrix_wrapper\u001b[0m\u001b[0;34m.\u001b[0m\u001b[0mcall\u001b[0m\u001b[0;34m(\u001b[0m\u001b[0;34m\"toLocalMatrix\"\u001b[0m\u001b[0;34m)\u001b[0m\u001b[0;34m\u001b[0m\u001b[0;34m\u001b[0m\u001b[0m\n\u001b[0m\u001b[1;32m   1334\u001b[0m \u001b[0;34m\u001b[0m\u001b[0m\n\u001b[1;32m   1335\u001b[0m     \u001b[0;32mdef\u001b[0m \u001b[0mtoIndexedRowMatrix\u001b[0m\u001b[0;34m(\u001b[0m\u001b[0mself\u001b[0m\u001b[0;34m)\u001b[0m\u001b[0;34m:\u001b[0m\u001b[0;34m\u001b[0m\u001b[0;34m\u001b[0m\u001b[0m\n",
      "\u001b[0;32m~/opt/miniconda3/envs/spk/lib/python3.7/site-packages/pyspark/mllib/common.py\u001b[0m in \u001b[0;36mcall\u001b[0;34m(self, name, *a)\u001b[0m\n\u001b[1;32m    144\u001b[0m     \u001b[0;32mdef\u001b[0m \u001b[0mcall\u001b[0m\u001b[0;34m(\u001b[0m\u001b[0mself\u001b[0m\u001b[0;34m,\u001b[0m \u001b[0mname\u001b[0m\u001b[0;34m,\u001b[0m \u001b[0;34m*\u001b[0m\u001b[0ma\u001b[0m\u001b[0;34m)\u001b[0m\u001b[0;34m:\u001b[0m\u001b[0;34m\u001b[0m\u001b[0;34m\u001b[0m\u001b[0m\n\u001b[1;32m    145\u001b[0m         \u001b[0;34m\"\"\"Call method of java_model\"\"\"\u001b[0m\u001b[0;34m\u001b[0m\u001b[0;34m\u001b[0m\u001b[0m\n\u001b[0;32m--> 146\u001b[0;31m         \u001b[0;32mreturn\u001b[0m \u001b[0mcallJavaFunc\u001b[0m\u001b[0;34m(\u001b[0m\u001b[0mself\u001b[0m\u001b[0;34m.\u001b[0m\u001b[0m_sc\u001b[0m\u001b[0;34m,\u001b[0m \u001b[0mgetattr\u001b[0m\u001b[0;34m(\u001b[0m\u001b[0mself\u001b[0m\u001b[0;34m.\u001b[0m\u001b[0m_java_model\u001b[0m\u001b[0;34m,\u001b[0m \u001b[0mname\u001b[0m\u001b[0;34m)\u001b[0m\u001b[0;34m,\u001b[0m \u001b[0;34m*\u001b[0m\u001b[0ma\u001b[0m\u001b[0;34m)\u001b[0m\u001b[0;34m\u001b[0m\u001b[0;34m\u001b[0m\u001b[0m\n\u001b[0m\u001b[1;32m    147\u001b[0m \u001b[0;34m\u001b[0m\u001b[0m\n\u001b[1;32m    148\u001b[0m \u001b[0;34m\u001b[0m\u001b[0m\n",
      "\u001b[0;32m~/opt/miniconda3/envs/spk/lib/python3.7/site-packages/pyspark/mllib/common.py\u001b[0m in \u001b[0;36mcallJavaFunc\u001b[0;34m(sc, func, *args)\u001b[0m\n\u001b[1;32m    121\u001b[0m     \u001b[0;34m\"\"\" Call Java Function \"\"\"\u001b[0m\u001b[0;34m\u001b[0m\u001b[0;34m\u001b[0m\u001b[0m\n\u001b[1;32m    122\u001b[0m     \u001b[0margs\u001b[0m \u001b[0;34m=\u001b[0m \u001b[0;34m[\u001b[0m\u001b[0m_py2java\u001b[0m\u001b[0;34m(\u001b[0m\u001b[0msc\u001b[0m\u001b[0;34m,\u001b[0m \u001b[0ma\u001b[0m\u001b[0;34m)\u001b[0m \u001b[0;32mfor\u001b[0m \u001b[0ma\u001b[0m \u001b[0;32min\u001b[0m \u001b[0margs\u001b[0m\u001b[0;34m]\u001b[0m\u001b[0;34m\u001b[0m\u001b[0;34m\u001b[0m\u001b[0m\n\u001b[0;32m--> 123\u001b[0;31m     \u001b[0;32mreturn\u001b[0m \u001b[0m_java2py\u001b[0m\u001b[0;34m(\u001b[0m\u001b[0msc\u001b[0m\u001b[0;34m,\u001b[0m \u001b[0mfunc\u001b[0m\u001b[0;34m(\u001b[0m\u001b[0;34m*\u001b[0m\u001b[0margs\u001b[0m\u001b[0;34m)\u001b[0m\u001b[0;34m)\u001b[0m\u001b[0;34m\u001b[0m\u001b[0;34m\u001b[0m\u001b[0m\n\u001b[0m\u001b[1;32m    124\u001b[0m \u001b[0;34m\u001b[0m\u001b[0m\n\u001b[1;32m    125\u001b[0m \u001b[0;34m\u001b[0m\u001b[0m\n",
      "\u001b[0;32m~/opt/miniconda3/envs/spk/lib/python3.7/site-packages/py4j/java_gateway.py\u001b[0m in \u001b[0;36m__call__\u001b[0;34m(self, *args)\u001b[0m\n\u001b[1;32m   1303\u001b[0m         \u001b[0manswer\u001b[0m \u001b[0;34m=\u001b[0m \u001b[0mself\u001b[0m\u001b[0;34m.\u001b[0m\u001b[0mgateway_client\u001b[0m\u001b[0;34m.\u001b[0m\u001b[0msend_command\u001b[0m\u001b[0;34m(\u001b[0m\u001b[0mcommand\u001b[0m\u001b[0;34m)\u001b[0m\u001b[0;34m\u001b[0m\u001b[0;34m\u001b[0m\u001b[0m\n\u001b[1;32m   1304\u001b[0m         return_value = get_return_value(\n\u001b[0;32m-> 1305\u001b[0;31m             answer, self.gateway_client, self.target_id, self.name)\n\u001b[0m\u001b[1;32m   1306\u001b[0m \u001b[0;34m\u001b[0m\u001b[0m\n\u001b[1;32m   1307\u001b[0m         \u001b[0;32mfor\u001b[0m \u001b[0mtemp_arg\u001b[0m \u001b[0;32min\u001b[0m \u001b[0mtemp_args\u001b[0m\u001b[0;34m:\u001b[0m\u001b[0;34m\u001b[0m\u001b[0;34m\u001b[0m\u001b[0m\n",
      "\u001b[0;32m~/opt/miniconda3/envs/spk/lib/python3.7/site-packages/pyspark/sql/utils.py\u001b[0m in \u001b[0;36mdeco\u001b[0;34m(*a, **kw)\u001b[0m\n\u001b[1;32m    135\u001b[0m                 \u001b[0;31m# Hide where the exception came from that shows a non-Pythonic\u001b[0m\u001b[0;34m\u001b[0m\u001b[0;34m\u001b[0m\u001b[0;34m\u001b[0m\u001b[0m\n\u001b[1;32m    136\u001b[0m                 \u001b[0;31m# JVM exception message.\u001b[0m\u001b[0;34m\u001b[0m\u001b[0;34m\u001b[0m\u001b[0;34m\u001b[0m\u001b[0m\n\u001b[0;32m--> 137\u001b[0;31m                 \u001b[0mraise_from\u001b[0m\u001b[0;34m(\u001b[0m\u001b[0mconverted\u001b[0m\u001b[0;34m)\u001b[0m\u001b[0;34m\u001b[0m\u001b[0;34m\u001b[0m\u001b[0m\n\u001b[0m\u001b[1;32m    138\u001b[0m             \u001b[0;32melse\u001b[0m\u001b[0;34m:\u001b[0m\u001b[0;34m\u001b[0m\u001b[0;34m\u001b[0m\u001b[0m\n\u001b[1;32m    139\u001b[0m                 \u001b[0;32mraise\u001b[0m\u001b[0;34m\u001b[0m\u001b[0;34m\u001b[0m\u001b[0m\n",
      "\u001b[0;32m~/opt/miniconda3/envs/spk/lib/python3.7/site-packages/pyspark/sql/utils.py\u001b[0m in \u001b[0;36mraise_from\u001b[0;34m(e)\u001b[0m\n",
      "\u001b[0;31mIllegalArgumentException\u001b[0m: requirement failed: The length of the values array must be less than Int.MaxValue. Currently numRows * numCols: 2249925000625"
     ]
    }
   ],
   "source": [
    "mat = IndexedRowMatrix(\n",
    "    df.select(\"user_id\", \"norm\")\\\n",
    "        .rdd.map(lambda row: IndexedRow(row.user_id, row.norm.toArray()))).toBlockMatrix()\n",
    "\n",
    "dot = mat.multiply(mat.transpose())\n",
    "\n",
    "X = dot.toLocalMatrix().toArray()\n",
    "\n"
   ]
  },
  {
   "cell_type": "code",
   "execution_count": null,
   "metadata": {},
   "outputs": [],
   "source": []
  }
 ],
 "metadata": {
  "kernelspec": {
   "display_name": "Spark3",
   "language": "python",
   "name": "spk"
  },
  "language_info": {
   "codemirror_mode": {
    "name": "ipython",
    "version": 3
   },
   "file_extension": ".py",
   "mimetype": "text/x-python",
   "name": "python",
   "nbconvert_exporter": "python",
   "pygments_lexer": "ipython3",
   "version": "3.7.7"
  },
  "toc": {
   "base_numbering": 1,
   "nav_menu": {},
   "number_sections": true,
   "sideBar": true,
   "skip_h1_title": false,
   "title_cell": "Table of Contents",
   "title_sidebar": "Contents",
   "toc_cell": true,
   "toc_position": {},
   "toc_section_display": true,
   "toc_window_display": false
  }
 },
 "nbformat": 4,
 "nbformat_minor": 2
}
